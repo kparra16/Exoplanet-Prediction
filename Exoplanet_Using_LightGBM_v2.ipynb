{
 "cells": [
  {
   "cell_type": "code",
   "execution_count": 1,
   "metadata": {},
   "outputs": [
    {
     "name": "stdout",
     "output_type": "stream",
     "text": [
      "(5087, 3198)\n",
      "(570, 3198)\n"
     ]
    }
   ],
   "source": [
    "import pandas as pd\n",
    "import numpy as np\n",
    "import os\n",
    "from sklearn.preprocessing import MinMaxScaler\n",
    "from sklearn.compose import ColumnTransformer\n",
    "from sklearn.pipeline import Pipeline\n",
    "from sklearn.preprocessing import FunctionTransformer\n",
    "from sklearn.ensemble import RandomForestClassifier\n",
    "from sklearn.decomposition import PCA\n",
    "from sklearn.metrics import mean_squared_error\n",
    "from sklearn import metrics\n",
    "import datetime as dt\n",
    "from sklearn.model_selection import GridSearchCV,RandomizedSearchCV, learning_curve \n",
    "from sklearn.metrics import recall_score,cohen_kappa_score,roc_curve, auc,accuracy_score,confusion_matrix,f1_score,precision_score,roc_auc_score,roc_curve\n",
    "from scipy.stats import ks_2samp\n",
    "import matplotlib.pyplot as plt\n",
    "import seaborn as sns\n",
    "import pickle\n",
    "import random\n",
    "import lightgbm as lgb\n",
    "\n",
    "Train = pd.read_csv(\"exoTrain.csv\",sep=',')\n",
    "Test = pd.read_csv(\"exoTest.csv\",sep=',')\n",
    "\n",
    "print(Train.shape)\n",
    "print(Test.shape)"
   ]
  },
  {
   "cell_type": "code",
   "execution_count": 2,
   "metadata": {},
   "outputs": [],
   "source": [
    "X_train = Train.drop('LABEL', axis=1).values\n",
    "X_test = Test.drop('LABEL', axis=1).values\n",
    "y_train = Train['LABEL'].values\n",
    "y_test = Test['LABEL'].values\n",
    "\n"
   ]
  },
  {
   "cell_type": "code",
   "execution_count": 3,
   "metadata": {},
   "outputs": [
    {
     "name": "stdout",
     "output_type": "stream",
     "text": [
      "Cumulative explained variation: 0.9608131841414359\n"
     ]
    }
   ],
   "source": [
    "pca = PCA(.95)\n",
    "\n",
    "pca.fit(X_train)\n",
    "\n",
    "print('Cumulative explained variation: {}'.format(np.sum(pca.explained_variance_ratio_)))"
   ]
  },
  {
   "cell_type": "code",
   "execution_count": 4,
   "metadata": {},
   "outputs": [
    {
     "data": {
      "text/plain": [
       "8"
      ]
     },
     "execution_count": 4,
     "metadata": {},
     "output_type": "execute_result"
    }
   ],
   "source": [
    "pca.n_components_"
   ]
  },
  {
   "cell_type": "code",
   "execution_count": 5,
   "metadata": {},
   "outputs": [],
   "source": [
    "X_train_pca=pca.transform(X_train)\n",
    "X_test_pca=pca.transform(X_test)"
   ]
  },
  {
   "cell_type": "code",
   "execution_count": 6,
   "metadata": {
    "scrolled": true
   },
   "outputs": [
    {
     "name": "stdout",
     "output_type": "stream",
     "text": [
      "Start training...\n",
      "[1]\tvalid_0's l1: 0.0158886\tvalid_0's l2: 0.00869551\n",
      "Training until validation scores don't improve for 5 rounds\n",
      "[2]\tvalid_0's l1: 0.0158239\tvalid_0's l2: 0.0086879\n",
      "[3]\tvalid_0's l1: 0.01584\tvalid_0's l2: 0.00866397\n",
      "[4]\tvalid_0's l1: 0.0158361\tvalid_0's l2: 0.00866287\n",
      "[5]\tvalid_0's l1: 0.0157671\tvalid_0's l2: 0.00862312\n",
      "[6]\tvalid_0's l1: 0.0157265\tvalid_0's l2: 0.00860962\n",
      "[7]\tvalid_0's l1: 0.0157338\tvalid_0's l2: 0.00859846\n",
      "[8]\tvalid_0's l1: 0.0157471\tvalid_0's l2: 0.00860626\n",
      "[9]\tvalid_0's l1: 0.0157942\tvalid_0's l2: 0.00860122\n",
      "[10]\tvalid_0's l1: 0.0157481\tvalid_0's l2: 0.00860576\n",
      "[11]\tvalid_0's l1: 0.0156896\tvalid_0's l2: 0.00857595\n",
      "[12]\tvalid_0's l1: 0.0156934\tvalid_0's l2: 0.0085605\n",
      "[13]\tvalid_0's l1: 0.0157389\tvalid_0's l2: 0.00852722\n",
      "[14]\tvalid_0's l1: 0.0157632\tvalid_0's l2: 0.00851606\n",
      "[15]\tvalid_0's l1: 0.0157378\tvalid_0's l2: 0.00850577\n",
      "[16]\tvalid_0's l1: 0.0157736\tvalid_0's l2: 0.00849431\n",
      "Early stopping, best iteration is:\n",
      "[11]\tvalid_0's l1: 0.0156896\tvalid_0's l2: 0.00857595\n"
     ]
    },
    {
     "data": {
      "text/plain": [
       "LGBMRegressor(boosting_type='gbdt', class_weight=None, colsample_bytree=1.0,\n",
       "       importance_type='split', learning_rate=0.05, max_depth=-1,\n",
       "       min_child_samples=20, min_child_weight=0.001, min_split_gain=0.0,\n",
       "       n_estimators=20, n_jobs=-1, num_leaves=20, objective='regression',\n",
       "       random_state=None, reg_alpha=0.0, reg_lambda=0.0, silent=True,\n",
       "       subsample=1.0, subsample_for_bin=200000, subsample_freq=0)"
      ]
     },
     "execution_count": 6,
     "metadata": {},
     "output_type": "execute_result"
    }
   ],
   "source": [
    "# Use Sklearn to create Model and train model \n",
    "\n",
    "print('Start training...')\n",
    "gbm = lgb.LGBMRegressor(objective='regression',num_leaves=20,learning_rate=0.05,n_estimators=20)\n",
    "gbm.fit(X_train_pca, y_train,eval_set=[(X_test_pca, y_test)],eval_metric='l1',early_stopping_rounds=5)\n"
   ]
  },
  {
   "cell_type": "code",
   "execution_count": 7,
   "metadata": {},
   "outputs": [
    {
     "name": "stdout",
     "output_type": "stream",
     "text": [
      "Start predicting...\n",
      "The rmse of prediction is: 0.0926063997711575\n"
     ]
    }
   ],
   "source": [
    "print('Start predicting...')\n",
    "y_pred = gbm.predict(X_test_pca, num_iteration=gbm.best_iteration_)\n",
    "print('The rmse of prediction is:', mean_squared_error(y_test, y_pred) ** 0.5)"
   ]
  },
  {
   "cell_type": "code",
   "execution_count": 8,
   "metadata": {},
   "outputs": [
    {
     "name": "stdout",
     "output_type": "stream",
     "text": [
      "Accuracy Score: 99.12 %\n",
      "ROC AUC: 0.5\n"
     ]
    }
   ],
   "source": [
    "gbmModel = lgb.LGBMClassifier()\n",
    "gbmModel.fit(X_train_pca,y_train)\n",
    "y_pred = gbmModel.predict(X_test_pca)\n",
    "print(\"Accuracy Score:\",round(metrics.accuracy_score(y_test,y_pred) *100,2), '%')\n",
    "print(\"ROC AUC:\",metrics.roc_auc_score(y_test,y_pred))"
   ]
  },
  {
   "cell_type": "code",
   "execution_count": 9,
   "metadata": {},
   "outputs": [
    {
     "data": {
      "image/png": "[encoded data removed]",
      "text/plain": [
       "<Figure size 432x288 with 2 Axes>"
      ]
     },
     "metadata": {
      "needs_background": "light"
     },
     "output_type": "display_data"
    }
   ],
   "source": [
    "plt.title('Confusion matrix for Logistic Regression')\n",
    "sns.heatmap(confusion_matrix(y_test, y_pred), annot=True, cmap=\"YlGn\")\n",
    "plt.xlabel('Predicted classes')\n",
    "plt.ylabel('True Classes')\n",
    "plt.show()"
   ]
  },
  {
   "cell_type": "code",
   "execution_count": 10,
   "metadata": {},
   "outputs": [],
   "source": [
    "# Use LGB.train()\n",
    "# Convert the training data into LightGBM dataset formate \n",
    "# manually build python dictionary with lgb parameters \n",
    "\n",
    "lgb_train = lgb.Dataset(X_train, y_train)\n",
    "lgb_eval = lgb.Dataset(X_test, y_test, reference=lgb_train)\n",
    "\n",
    "\n"
   ]
  },
  {
   "cell_type": "code",
   "execution_count": 11,
   "metadata": {},
   "outputs": [
    {
     "name": "stdout",
     "output_type": "stream",
     "text": [
      "Start training...\n",
      "[1]\tvalid_0's l2: 0.00864193\n",
      "Training until validation scores don't improve for 10 rounds\n",
      "[2]\tvalid_0's l2: 0.00859433\n",
      "[3]\tvalid_0's l2: 0.00855363\n",
      "[4]\tvalid_0's l2: 0.00851146\n",
      "[5]\tvalid_0's l2: 0.00847676\n",
      "[6]\tvalid_0's l2: 0.00839803\n",
      "[7]\tvalid_0's l2: 0.00838171\n",
      "[8]\tvalid_0's l2: 0.0083984\n",
      "[9]\tvalid_0's l2: 0.00833071\n",
      "[10]\tvalid_0's l2: 0.00833881\n",
      "[11]\tvalid_0's l2: 0.00832309\n",
      "[12]\tvalid_0's l2: 0.00825376\n",
      "[13]\tvalid_0's l2: 0.00820884\n",
      "[14]\tvalid_0's l2: 0.00818334\n",
      "[15]\tvalid_0's l2: 0.00813607\n",
      "[16]\tvalid_0's l2: 0.00814411\n",
      "[17]\tvalid_0's l2: 0.00816093\n",
      "[18]\tvalid_0's l2: 0.00816681\n",
      "[19]\tvalid_0's l2: 0.00818275\n",
      "[20]\tvalid_0's l2: 0.00815848\n",
      "Did not meet early stopping. Best iteration is:\n",
      "[15]\tvalid_0's l2: 0.00813607\n"
     ]
    }
   ],
   "source": [
    "# Use the following parameters vavlue for faster result\n",
    "\n",
    "params = {\n",
    " 'task': 'train',\n",
    " \n",
    " 'objective': 'regression', \n",
    " 'max_bin': 255, \n",
    " 'num_leaves': 31, \n",
    " 'learning_rate': 0.05, \n",
    " 'feature_fraction': 0.9, \n",
    " 'bagging_fraction': 0.8, \n",
    " 'bagging_freq': 5,\n",
    " \n",
    "}\n",
    "\n",
    "print('Start training...')\n",
    "\n",
    "gbm = lgb.train(params,lgb_train,num_boost_round=20,valid_sets=lgb_eval,early_stopping_rounds=10)"
   ]
  },
  {
   "cell_type": "code",
   "execution_count": 12,
   "metadata": {},
   "outputs": [
    {
     "name": "stdout",
     "output_type": "stream",
     "text": [
      "The rmse of prediction is: 0.0902001393528733\n",
      "Accuracy Score: 99.12 %\n",
      "ROC AUC: 0.6176991150442478\n"
     ]
    }
   ],
   "source": [
    "yy_pred = gbm.predict(X_test)\n",
    "\n",
    "accuracy=accuracy_score(yy_pred.round(),y_test)\n",
    "\n",
    "print('The rmse of prediction is:', mean_squared_error(y_test, yy_pred) ** 0.5)\n",
    "\n",
    "print(\"Accuracy Score:\",round(accuracy*100 , 2), '%')\n",
    "print(\"ROC AUC:\",metrics.roc_auc_score(y_test,yy_pred))"
   ]
  },
  {
   "cell_type": "code",
   "execution_count": 13,
   "metadata": {},
   "outputs": [
    {
     "data": {
      "image/png": "[encoded data removed]",
      "text/plain": [
       "<Figure size 432x288 with 2 Axes>"
      ]
     },
     "metadata": {
      "needs_background": "light"
     },
     "output_type": "display_data"
    }
   ],
   "source": [
    "plt.title('Confusion matrix for Logistic Regression')\n",
    "sns.heatmap(confusion_matrix(y_test, yy_pred.round()), annot=True, cmap=\"YlGn\")\n",
    "plt.xlabel('Predicted classes')\n",
    "plt.ylabel('True Classes')\n",
    "plt.show()"
   ]
  },
  {
   "cell_type": "code",
   "execution_count": 14,
   "metadata": {},
   "outputs": [
    {
     "name": "stdout",
     "output_type": "stream",
     "text": [
      "Start training...\n"
     ]
    },
    {
     "name": "stderr",
     "output_type": "stream",
     "text": [
      "D:\\Installation\\Anaconda3\\lib\\site-packages\\lightgbm\\engine.py:148: UserWarning: Found `num_iterations` in params. Will use it instead of argument\n",
      "  warnings.warn(\"Found `{}` in params. Will use it instead of argument\".format(alias))\n"
     ]
    },
    {
     "name": "stdout",
     "output_type": "stream",
     "text": [
      "[1]\tvalid_0's l2: 0.00866555\n",
      "Training until validation scores don't improve for 10 rounds\n",
      "[2]\tvalid_0's l2: 0.0086384\n",
      "[3]\tvalid_0's l2: 0.00862152\n",
      "[4]\tvalid_0's l2: 0.00860607\n",
      "[5]\tvalid_0's l2: 0.00851235\n",
      "[6]\tvalid_0's l2: 0.0085011\n",
      "[7]\tvalid_0's l2: 0.00847814\n",
      "[8]\tvalid_0's l2: 0.00846632\n",
      "[9]\tvalid_0's l2: 0.00842434\n",
      "[10]\tvalid_0's l2: 0.00841649\n",
      "[11]\tvalid_0's l2: 0.00837429\n",
      "[12]\tvalid_0's l2: 0.0083706\n",
      "[13]\tvalid_0's l2: 0.00832584\n",
      "[14]\tvalid_0's l2: 0.0083157\n",
      "[15]\tvalid_0's l2: 0.00827544\n",
      "[16]\tvalid_0's l2: 0.0082652\n",
      "[17]\tvalid_0's l2: 0.00826949\n",
      "[18]\tvalid_0's l2: 0.00823363\n",
      "[19]\tvalid_0's l2: 0.00822977\n",
      "[20]\tvalid_0's l2: 0.00820475\n",
      "[21]\tvalid_0's l2: 0.00820032\n",
      "[22]\tvalid_0's l2: 0.00817577\n",
      "[23]\tvalid_0's l2: 0.00816015\n",
      "[24]\tvalid_0's l2: 0.00815121\n",
      "[25]\tvalid_0's l2: 0.0081291\n",
      "[26]\tvalid_0's l2: 0.00812692\n",
      "[27]\tvalid_0's l2: 0.00811532\n",
      "[28]\tvalid_0's l2: 0.00811344\n",
      "[29]\tvalid_0's l2: 0.00810111\n",
      "[30]\tvalid_0's l2: 0.00807545\n",
      "[31]\tvalid_0's l2: 0.00808153\n",
      "[32]\tvalid_0's l2: 0.00806716\n",
      "[33]\tvalid_0's l2: 0.00802024\n",
      "[34]\tvalid_0's l2: 0.00802174\n",
      "[35]\tvalid_0's l2: 0.00798041\n",
      "[36]\tvalid_0's l2: 0.0079997\n",
      "[37]\tvalid_0's l2: 0.00800959\n",
      "[38]\tvalid_0's l2: 0.00801189\n",
      "[39]\tvalid_0's l2: 0.00801933\n",
      "[40]\tvalid_0's l2: 0.00802442\n",
      "[41]\tvalid_0's l2: 0.00801713\n",
      "[42]\tvalid_0's l2: 0.00801045\n",
      "[43]\tvalid_0's l2: 0.00802596\n",
      "[44]\tvalid_0's l2: 0.00801566\n",
      "[45]\tvalid_0's l2: 0.00802449\n",
      "Early stopping, best iteration is:\n",
      "[35]\tvalid_0's l2: 0.00798041\n"
     ]
    }
   ],
   "source": [
    "# Use the following parameters vavlue for better accuracy\n",
    "params2 = {\n",
    " 'task': 'train',\n",
    " 'objective': 'regression', \n",
    " 'num_leaves': 30, \n",
    " 'learning_rate': 0.03, \n",
    " 'feature_fraction': 0.9, \n",
    " 'num_iterations': 200, \n",
    "}\n",
    "\n",
    "print('Start training...')\n",
    "\n",
    "gbm2 = lgb.train(params2,lgb_train,num_boost_round=20,valid_sets=lgb_eval,early_stopping_rounds=10)"
   ]
  },
  {
   "cell_type": "code",
   "execution_count": 15,
   "metadata": {},
   "outputs": [
    {
     "name": "stdout",
     "output_type": "stream",
     "text": [
      "The rmse of prediction is: 0.08933316411140678\n",
      "Accuracy Score: 99.12 %\n",
      "ROC AUC: 0.9122123893805311\n"
     ]
    }
   ],
   "source": [
    "yyy_pred = gbm2.predict(X_test)\n",
    "\n",
    "accuracy=accuracy_score(yyy_pred.round(),y_test)\n",
    "\n",
    "print('The rmse of prediction is:', mean_squared_error(y_test, yyy_pred) ** 0.5)\n",
    "\n",
    "print(\"Accuracy Score:\",round(accuracy*100 , 2), '%')\n",
    "print(\"ROC AUC:\",metrics.roc_auc_score(y_test,yyy_pred))"
   ]
  },
  {
   "cell_type": "code",
   "execution_count": 16,
   "metadata": {},
   "outputs": [
    {
     "data": {
      "image/png": "[encoded data removed]",
      "text/plain": [
       "<Figure size 432x288 with 2 Axes>"
      ]
     },
     "metadata": {
      "needs_background": "light"
     },
     "output_type": "display_data"
    }
   ],
   "source": [
    "plt.title('Confusion matrix for Logistic Regression')\n",
    "sns.heatmap(confusion_matrix(y_test, yy_pred.round()), annot=True, cmap=\"YlGn\")\n",
    "plt.xlabel('Predicted classes')\n",
    "plt.ylabel('True Classes')\n",
    "plt.show()"
   ]
  },
  {
   "cell_type": "code",
   "execution_count": 21,
   "metadata": {},
   "outputs": [
    {
     "name": "stdout",
     "output_type": "stream",
     "text": [
      "best n_estimators: 1\n",
      "best cv score: 1.0\n"
     ]
    }
   ],
   "source": [
    "data_train = lgb.Dataset(X_train, y_train)\n",
    "cv_results = lgb.cv(params, data_train, num_boost_round=50, nfold=5, stratified=False, shuffle=True, metrics='auc',early_stopping_rounds=10,seed=0)\n",
    "print('best n_estimators:', len(cv_results['auc-mean']))\n",
    "print('best cv score:', pd.Series(cv_results['auc-mean']).max())"
   ]
  },
  {
   "cell_type": "code",
   "execution_count": null,
   "metadata": {},
   "outputs": [],
   "source": [
    "\n"
   ]
  },
  {
   "cell_type": "code",
   "execution_count": null,
   "metadata": {},
   "outputs": [],
   "source": []
  },
  {
   "cell_type": "code",
   "execution_count": null,
   "metadata": {},
   "outputs": [],
   "source": []
  },
  {
   "cell_type": "code",
   "execution_count": null,
   "metadata": {},
   "outputs": [],
   "source": []
  },
  {
   "cell_type": "code",
   "execution_count": null,
   "metadata": {},
   "outputs": [],
   "source": []
  },
  {
   "cell_type": "code",
   "execution_count": null,
   "metadata": {},
   "outputs": [],
   "source": []
  },
  {
   "cell_type": "code",
   "execution_count": null,
   "metadata": {},
   "outputs": [],
   "source": []
  },
  {
   "cell_type": "code",
   "execution_count": null,
   "metadata": {},
   "outputs": [],
   "source": []
  }
 ],
 "metadata": {
  "kernelspec": {
   "display_name": "Python 3",
   "language": "python",
   "name": "python3"
  },
  "language_info": {
   "codemirror_mode": {
    "name": "ipython",
    "version": 3
   },
   "file_extension": ".py",
   "mimetype": "text/x-python",
   "name": "python",
   "nbconvert_exporter": "python",
   "pygments_lexer": "ipython3",
   "version": "3.7.1"
  }
 },
 "nbformat": 4,
 "nbformat_minor": 2
}
