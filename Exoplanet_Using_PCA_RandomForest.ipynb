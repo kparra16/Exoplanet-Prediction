{
 "cells": [
  {
   "cell_type": "markdown",
   "metadata": {},
   "source": [
    "---\n",
    "<font size=\"5\" color='#03D3E8'>\n",
    "    Example applying Reduction PCA - Random Forest with Exoplanet Dataset\n",
    "</font>\n",
    "\n",
    "---\n"
   ]
  },
  {
   "cell_type": "markdown",
   "metadata": {},
   "source": [
    "<font size=\"4\" color='#03D3E8'>\n",
    "    <b>Step 1         \n",
    "</font>"
   ]
  },
  {
   "cell_type": "markdown",
   "metadata": {},
   "source": [
    "It will be assumed that each flux lecture are independent through time and it will be considered like independent variables. First step, it'll be read train and test dataset"
   ]
  },
  {
   "cell_type": "code",
   "execution_count": 1,
   "metadata": {},
   "outputs": [
    {
     "name": "stdout",
     "output_type": "stream",
     "text": [
      "(5087, 3198)\n",
      "(570, 3198)\n"
     ]
    }
   ],
   "source": [
    "import pandas as pd\n",
    "import numpy as np\n",
    "from sklearn.preprocessing import MinMaxScaler\n",
    "from sklearn.compose import ColumnTransformer\n",
    "from sklearn.pipeline import Pipeline\n",
    "from sklearn.preprocessing import FunctionTransformer\n",
    "from sklearn.ensemble import RandomForestClassifier\n",
    "from sklearn.decomposition import PCA\n",
    "import datetime as dt\n",
    "from sklearn.model_selection import GridSearchCV\n",
    "from sklearn.metrics import recall_score,cohen_kappa_score,roc_curve, auc,accuracy_score,confusion_matrix,f1_score,precision_score,roc_auc_score,roc_curve\n",
    "import matplotlib.pyplot as plt\n",
    "import seaborn as sns\n",
    "\n",
    "#Use your directory work, the data do not need a special treatment to read\n",
    "\n",
    "Train=pd.read_csv('D:\\\\mis documentos\\\\Data Science Certificate\\\\Module 4 - Machine Learning\\\\Group Assignment\\\\exoTrain.csv',sep=',')\n",
    "Test=pd.read_csv('D:\\\\mis documentos\\\\Data Science Certificate\\\\Module 4 - Machine Learning\\\\Group Assignment\\\\exoTest.csv',sep=',')\n",
    "\n",
    "print(Train.shape)\n",
    "print(Test.shape)"
   ]
  },
  {
   "cell_type": "code",
   "execution_count": 2,
   "metadata": {},
   "outputs": [
    {
     "data": {
      "text/html": [
       "<div>\n",
       "<style scoped>\n",
       "    .dataframe tbody tr th:only-of-type {\n",
       "        vertical-align: middle;\n",
       "    }\n",
       "\n",
       "    .dataframe tbody tr th {\n",
       "        vertical-align: top;\n",
       "    }\n",
       "\n",
       "    .dataframe thead th {\n",
       "        text-align: right;\n",
       "    }\n",
       "</style>\n",
       "<table border=\"1\" class=\"dataframe\">\n",
       "  <thead>\n",
       "    <tr style=\"text-align: right;\">\n",
       "      <th></th>\n",
       "      <th>LABEL</th>\n",
       "      <th>FLUX.1</th>\n",
       "      <th>FLUX.2</th>\n",
       "      <th>FLUX.3</th>\n",
       "      <th>FLUX.4</th>\n",
       "      <th>FLUX.5</th>\n",
       "      <th>FLUX.6</th>\n",
       "      <th>FLUX.7</th>\n",
       "      <th>FLUX.8</th>\n",
       "      <th>FLUX.9</th>\n",
       "      <th>...</th>\n",
       "      <th>FLUX.3188</th>\n",
       "      <th>FLUX.3189</th>\n",
       "      <th>FLUX.3190</th>\n",
       "      <th>FLUX.3191</th>\n",
       "      <th>FLUX.3192</th>\n",
       "      <th>FLUX.3193</th>\n",
       "      <th>FLUX.3194</th>\n",
       "      <th>FLUX.3195</th>\n",
       "      <th>FLUX.3196</th>\n",
       "      <th>FLUX.3197</th>\n",
       "    </tr>\n",
       "  </thead>\n",
       "  <tbody>\n",
       "    <tr>\n",
       "      <td>0</td>\n",
       "      <td>2</td>\n",
       "      <td>93.85</td>\n",
       "      <td>83.81</td>\n",
       "      <td>20.10</td>\n",
       "      <td>-26.98</td>\n",
       "      <td>-39.56</td>\n",
       "      <td>-124.71</td>\n",
       "      <td>-135.18</td>\n",
       "      <td>-96.27</td>\n",
       "      <td>-79.89</td>\n",
       "      <td>...</td>\n",
       "      <td>-78.07</td>\n",
       "      <td>-102.15</td>\n",
       "      <td>-102.15</td>\n",
       "      <td>25.13</td>\n",
       "      <td>48.57</td>\n",
       "      <td>92.54</td>\n",
       "      <td>39.32</td>\n",
       "      <td>61.42</td>\n",
       "      <td>5.08</td>\n",
       "      <td>-39.54</td>\n",
       "    </tr>\n",
       "    <tr>\n",
       "      <td>1</td>\n",
       "      <td>2</td>\n",
       "      <td>-38.88</td>\n",
       "      <td>-33.83</td>\n",
       "      <td>-58.54</td>\n",
       "      <td>-40.09</td>\n",
       "      <td>-79.31</td>\n",
       "      <td>-72.81</td>\n",
       "      <td>-86.55</td>\n",
       "      <td>-85.33</td>\n",
       "      <td>-83.97</td>\n",
       "      <td>...</td>\n",
       "      <td>-3.28</td>\n",
       "      <td>-32.21</td>\n",
       "      <td>-32.21</td>\n",
       "      <td>-24.89</td>\n",
       "      <td>-4.86</td>\n",
       "      <td>0.76</td>\n",
       "      <td>-11.70</td>\n",
       "      <td>6.46</td>\n",
       "      <td>16.00</td>\n",
       "      <td>19.93</td>\n",
       "    </tr>\n",
       "  </tbody>\n",
       "</table>\n",
       "<p>2 rows × 3198 columns</p>\n",
       "</div>"
      ],
      "text/plain": [
       "   LABEL  FLUX.1  FLUX.2  FLUX.3  FLUX.4  FLUX.5  FLUX.6  FLUX.7  FLUX.8  \\\n",
       "0      2   93.85   83.81   20.10  -26.98  -39.56 -124.71 -135.18  -96.27   \n",
       "1      2  -38.88  -33.83  -58.54  -40.09  -79.31  -72.81  -86.55  -85.33   \n",
       "\n",
       "   FLUX.9  ...  FLUX.3188  FLUX.3189  FLUX.3190  FLUX.3191  FLUX.3192  \\\n",
       "0  -79.89  ...     -78.07    -102.15    -102.15      25.13      48.57   \n",
       "1  -83.97  ...      -3.28     -32.21     -32.21     -24.89      -4.86   \n",
       "\n",
       "   FLUX.3193  FLUX.3194  FLUX.3195  FLUX.3196  FLUX.3197  \n",
       "0      92.54      39.32      61.42       5.08     -39.54  \n",
       "1       0.76     -11.70       6.46      16.00      19.93  \n",
       "\n",
       "[2 rows x 3198 columns]"
      ]
     },
     "execution_count": 2,
     "metadata": {},
     "output_type": "execute_result"
    }
   ],
   "source": [
    "Train.head(2)"
   ]
  },
  {
   "cell_type": "code",
   "execution_count": 3,
   "metadata": {},
   "outputs": [
    {
     "data": {
      "text/html": [
       "<div>\n",
       "<style scoped>\n",
       "    .dataframe tbody tr th:only-of-type {\n",
       "        vertical-align: middle;\n",
       "    }\n",
       "\n",
       "    .dataframe tbody tr th {\n",
       "        vertical-align: top;\n",
       "    }\n",
       "\n",
       "    .dataframe thead th {\n",
       "        text-align: right;\n",
       "    }\n",
       "</style>\n",
       "<table border=\"1\" class=\"dataframe\">\n",
       "  <thead>\n",
       "    <tr style=\"text-align: right;\">\n",
       "      <th></th>\n",
       "      <th>LABEL</th>\n",
       "      <th>FLUX.1</th>\n",
       "      <th>FLUX.2</th>\n",
       "      <th>FLUX.3</th>\n",
       "      <th>FLUX.4</th>\n",
       "      <th>FLUX.5</th>\n",
       "      <th>FLUX.6</th>\n",
       "      <th>FLUX.7</th>\n",
       "      <th>FLUX.8</th>\n",
       "      <th>FLUX.9</th>\n",
       "      <th>...</th>\n",
       "      <th>FLUX.3188</th>\n",
       "      <th>FLUX.3189</th>\n",
       "      <th>FLUX.3190</th>\n",
       "      <th>FLUX.3191</th>\n",
       "      <th>FLUX.3192</th>\n",
       "      <th>FLUX.3193</th>\n",
       "      <th>FLUX.3194</th>\n",
       "      <th>FLUX.3195</th>\n",
       "      <th>FLUX.3196</th>\n",
       "      <th>FLUX.3197</th>\n",
       "    </tr>\n",
       "  </thead>\n",
       "  <tbody>\n",
       "    <tr>\n",
       "      <td>0</td>\n",
       "      <td>2</td>\n",
       "      <td>119.88</td>\n",
       "      <td>100.21</td>\n",
       "      <td>86.46</td>\n",
       "      <td>48.68</td>\n",
       "      <td>46.12</td>\n",
       "      <td>39.39</td>\n",
       "      <td>18.57</td>\n",
       "      <td>6.98</td>\n",
       "      <td>6.63</td>\n",
       "      <td>...</td>\n",
       "      <td>14.52</td>\n",
       "      <td>19.29</td>\n",
       "      <td>14.44</td>\n",
       "      <td>-1.62</td>\n",
       "      <td>13.33</td>\n",
       "      <td>45.50</td>\n",
       "      <td>31.93</td>\n",
       "      <td>35.78</td>\n",
       "      <td>269.43</td>\n",
       "      <td>57.72</td>\n",
       "    </tr>\n",
       "    <tr>\n",
       "      <td>1</td>\n",
       "      <td>2</td>\n",
       "      <td>5736.59</td>\n",
       "      <td>5699.98</td>\n",
       "      <td>5717.16</td>\n",
       "      <td>5692.73</td>\n",
       "      <td>5663.83</td>\n",
       "      <td>5631.16</td>\n",
       "      <td>5626.39</td>\n",
       "      <td>5569.47</td>\n",
       "      <td>5550.44</td>\n",
       "      <td>...</td>\n",
       "      <td>-581.91</td>\n",
       "      <td>-984.09</td>\n",
       "      <td>-1230.89</td>\n",
       "      <td>-1600.45</td>\n",
       "      <td>-1824.53</td>\n",
       "      <td>-2061.17</td>\n",
       "      <td>-2265.98</td>\n",
       "      <td>-2366.19</td>\n",
       "      <td>-2294.86</td>\n",
       "      <td>-2034.72</td>\n",
       "    </tr>\n",
       "  </tbody>\n",
       "</table>\n",
       "<p>2 rows × 3198 columns</p>\n",
       "</div>"
      ],
      "text/plain": [
       "   LABEL   FLUX.1   FLUX.2   FLUX.3   FLUX.4   FLUX.5   FLUX.6   FLUX.7  \\\n",
       "0      2   119.88   100.21    86.46    48.68    46.12    39.39    18.57   \n",
       "1      2  5736.59  5699.98  5717.16  5692.73  5663.83  5631.16  5626.39   \n",
       "\n",
       "    FLUX.8   FLUX.9  ...  FLUX.3188  FLUX.3189  FLUX.3190  FLUX.3191  \\\n",
       "0     6.98     6.63  ...      14.52      19.29      14.44      -1.62   \n",
       "1  5569.47  5550.44  ...    -581.91    -984.09   -1230.89   -1600.45   \n",
       "\n",
       "   FLUX.3192  FLUX.3193  FLUX.3194  FLUX.3195  FLUX.3196  FLUX.3197  \n",
       "0      13.33      45.50      31.93      35.78     269.43      57.72  \n",
       "1   -1824.53   -2061.17   -2265.98   -2366.19   -2294.86   -2034.72  \n",
       "\n",
       "[2 rows x 3198 columns]"
      ]
     },
     "execution_count": 3,
     "metadata": {},
     "output_type": "execute_result"
    }
   ],
   "source": [
    "Test.head(2)"
   ]
  },
  {
   "cell_type": "code",
   "execution_count": 4,
   "metadata": {},
   "outputs": [
    {
     "data": {
      "text/html": [
       "<div>\n",
       "<style scoped>\n",
       "    .dataframe tbody tr th:only-of-type {\n",
       "        vertical-align: middle;\n",
       "    }\n",
       "\n",
       "    .dataframe tbody tr th {\n",
       "        vertical-align: top;\n",
       "    }\n",
       "\n",
       "    .dataframe thead th {\n",
       "        text-align: right;\n",
       "    }\n",
       "</style>\n",
       "<table border=\"1\" class=\"dataframe\">\n",
       "  <thead>\n",
       "    <tr style=\"text-align: right;\">\n",
       "      <th></th>\n",
       "      <th>LABEL</th>\n",
       "      <th>FLUX.1</th>\n",
       "      <th>FLUX.2</th>\n",
       "      <th>FLUX.3</th>\n",
       "      <th>FLUX.4</th>\n",
       "      <th>FLUX.5</th>\n",
       "      <th>FLUX.6</th>\n",
       "      <th>FLUX.7</th>\n",
       "      <th>FLUX.8</th>\n",
       "      <th>FLUX.9</th>\n",
       "      <th>...</th>\n",
       "      <th>FLUX.3188</th>\n",
       "      <th>FLUX.3189</th>\n",
       "      <th>FLUX.3190</th>\n",
       "      <th>FLUX.3191</th>\n",
       "      <th>FLUX.3192</th>\n",
       "      <th>FLUX.3193</th>\n",
       "      <th>FLUX.3194</th>\n",
       "      <th>FLUX.3195</th>\n",
       "      <th>FLUX.3196</th>\n",
       "      <th>FLUX.3197</th>\n",
       "    </tr>\n",
       "  </thead>\n",
       "  <tbody>\n",
       "    <tr>\n",
       "      <td>count</td>\n",
       "      <td>5087.000000</td>\n",
       "      <td>5.087000e+03</td>\n",
       "      <td>5.087000e+03</td>\n",
       "      <td>5.087000e+03</td>\n",
       "      <td>5.087000e+03</td>\n",
       "      <td>5.087000e+03</td>\n",
       "      <td>5.087000e+03</td>\n",
       "      <td>5.087000e+03</td>\n",
       "      <td>5.087000e+03</td>\n",
       "      <td>5.087000e+03</td>\n",
       "      <td>...</td>\n",
       "      <td>5.087000e+03</td>\n",
       "      <td>5.087000e+03</td>\n",
       "      <td>5.087000e+03</td>\n",
       "      <td>5.087000e+03</td>\n",
       "      <td>5.087000e+03</td>\n",
       "      <td>5.087000e+03</td>\n",
       "      <td>5087.000000</td>\n",
       "      <td>5087.000000</td>\n",
       "      <td>5087.000000</td>\n",
       "      <td>5087.000000</td>\n",
       "    </tr>\n",
       "    <tr>\n",
       "      <td>mean</td>\n",
       "      <td>1.007273</td>\n",
       "      <td>1.445054e+02</td>\n",
       "      <td>1.285778e+02</td>\n",
       "      <td>1.471348e+02</td>\n",
       "      <td>1.561512e+02</td>\n",
       "      <td>1.561477e+02</td>\n",
       "      <td>1.469646e+02</td>\n",
       "      <td>1.168380e+02</td>\n",
       "      <td>1.144983e+02</td>\n",
       "      <td>1.228639e+02</td>\n",
       "      <td>...</td>\n",
       "      <td>3.485578e+02</td>\n",
       "      <td>4.956476e+02</td>\n",
       "      <td>6.711211e+02</td>\n",
       "      <td>7.468790e+02</td>\n",
       "      <td>6.937372e+02</td>\n",
       "      <td>6.553031e+02</td>\n",
       "      <td>-494.784966</td>\n",
       "      <td>-544.594264</td>\n",
       "      <td>-440.239100</td>\n",
       "      <td>-300.536399</td>\n",
       "    </tr>\n",
       "    <tr>\n",
       "      <td>std</td>\n",
       "      <td>0.084982</td>\n",
       "      <td>2.150669e+04</td>\n",
       "      <td>2.179717e+04</td>\n",
       "      <td>2.191309e+04</td>\n",
       "      <td>2.223366e+04</td>\n",
       "      <td>2.308448e+04</td>\n",
       "      <td>2.410567e+04</td>\n",
       "      <td>2.414109e+04</td>\n",
       "      <td>2.290691e+04</td>\n",
       "      <td>2.102681e+04</td>\n",
       "      <td>...</td>\n",
       "      <td>2.864786e+04</td>\n",
       "      <td>3.551876e+04</td>\n",
       "      <td>4.349963e+04</td>\n",
       "      <td>4.981375e+04</td>\n",
       "      <td>5.087103e+04</td>\n",
       "      <td>5.339979e+04</td>\n",
       "      <td>17844.469520</td>\n",
       "      <td>17722.339334</td>\n",
       "      <td>16273.406292</td>\n",
       "      <td>14459.795577</td>\n",
       "    </tr>\n",
       "    <tr>\n",
       "      <td>min</td>\n",
       "      <td>1.000000</td>\n",
       "      <td>-2.278563e+05</td>\n",
       "      <td>-3.154408e+05</td>\n",
       "      <td>-2.840018e+05</td>\n",
       "      <td>-2.340069e+05</td>\n",
       "      <td>-4.231956e+05</td>\n",
       "      <td>-5.975521e+05</td>\n",
       "      <td>-6.724046e+05</td>\n",
       "      <td>-5.790136e+05</td>\n",
       "      <td>-3.973882e+05</td>\n",
       "      <td>...</td>\n",
       "      <td>-3.240480e+05</td>\n",
       "      <td>-3.045540e+05</td>\n",
       "      <td>-2.933140e+05</td>\n",
       "      <td>-2.838420e+05</td>\n",
       "      <td>-3.288214e+05</td>\n",
       "      <td>-5.028894e+05</td>\n",
       "      <td>-775322.000000</td>\n",
       "      <td>-732006.000000</td>\n",
       "      <td>-700992.000000</td>\n",
       "      <td>-643170.000000</td>\n",
       "    </tr>\n",
       "    <tr>\n",
       "      <td>25%</td>\n",
       "      <td>1.000000</td>\n",
       "      <td>-4.234000e+01</td>\n",
       "      <td>-3.952000e+01</td>\n",
       "      <td>-3.850500e+01</td>\n",
       "      <td>-3.505000e+01</td>\n",
       "      <td>-3.195500e+01</td>\n",
       "      <td>-3.338000e+01</td>\n",
       "      <td>-2.813000e+01</td>\n",
       "      <td>-2.784000e+01</td>\n",
       "      <td>-2.683500e+01</td>\n",
       "      <td>...</td>\n",
       "      <td>-1.760000e+01</td>\n",
       "      <td>-1.948500e+01</td>\n",
       "      <td>-1.757000e+01</td>\n",
       "      <td>-2.076000e+01</td>\n",
       "      <td>-2.226000e+01</td>\n",
       "      <td>-2.440500e+01</td>\n",
       "      <td>-26.760000</td>\n",
       "      <td>-24.065000</td>\n",
       "      <td>-21.135000</td>\n",
       "      <td>-19.820000</td>\n",
       "    </tr>\n",
       "    <tr>\n",
       "      <td>50%</td>\n",
       "      <td>1.000000</td>\n",
       "      <td>-7.100000e-01</td>\n",
       "      <td>-8.900000e-01</td>\n",
       "      <td>-7.400000e-01</td>\n",
       "      <td>-4.000000e-01</td>\n",
       "      <td>-6.100000e-01</td>\n",
       "      <td>-1.030000e+00</td>\n",
       "      <td>-8.700000e-01</td>\n",
       "      <td>-6.600000e-01</td>\n",
       "      <td>-5.600000e-01</td>\n",
       "      <td>...</td>\n",
       "      <td>2.600000e+00</td>\n",
       "      <td>2.680000e+00</td>\n",
       "      <td>3.050000e+00</td>\n",
       "      <td>3.590000e+00</td>\n",
       "      <td>3.230000e+00</td>\n",
       "      <td>3.500000e+00</td>\n",
       "      <td>-0.680000</td>\n",
       "      <td>0.360000</td>\n",
       "      <td>0.900000</td>\n",
       "      <td>1.430000</td>\n",
       "    </tr>\n",
       "    <tr>\n",
       "      <td>75%</td>\n",
       "      <td>1.000000</td>\n",
       "      <td>4.825500e+01</td>\n",
       "      <td>4.428500e+01</td>\n",
       "      <td>4.232500e+01</td>\n",
       "      <td>3.976500e+01</td>\n",
       "      <td>3.975000e+01</td>\n",
       "      <td>3.514000e+01</td>\n",
       "      <td>3.406000e+01</td>\n",
       "      <td>3.170000e+01</td>\n",
       "      <td>3.045500e+01</td>\n",
       "      <td>...</td>\n",
       "      <td>2.211000e+01</td>\n",
       "      <td>2.235000e+01</td>\n",
       "      <td>2.639500e+01</td>\n",
       "      <td>2.909000e+01</td>\n",
       "      <td>2.780000e+01</td>\n",
       "      <td>3.085500e+01</td>\n",
       "      <td>18.175000</td>\n",
       "      <td>18.770000</td>\n",
       "      <td>19.465000</td>\n",
       "      <td>20.280000</td>\n",
       "    </tr>\n",
       "    <tr>\n",
       "      <td>max</td>\n",
       "      <td>2.000000</td>\n",
       "      <td>1.439240e+06</td>\n",
       "      <td>1.453319e+06</td>\n",
       "      <td>1.468429e+06</td>\n",
       "      <td>1.495750e+06</td>\n",
       "      <td>1.510937e+06</td>\n",
       "      <td>1.508152e+06</td>\n",
       "      <td>1.465743e+06</td>\n",
       "      <td>1.416827e+06</td>\n",
       "      <td>1.342888e+06</td>\n",
       "      <td>...</td>\n",
       "      <td>1.779338e+06</td>\n",
       "      <td>2.379227e+06</td>\n",
       "      <td>2.992070e+06</td>\n",
       "      <td>3.434973e+06</td>\n",
       "      <td>3.481220e+06</td>\n",
       "      <td>3.616292e+06</td>\n",
       "      <td>288607.500000</td>\n",
       "      <td>215972.000000</td>\n",
       "      <td>207590.000000</td>\n",
       "      <td>211302.000000</td>\n",
       "    </tr>\n",
       "  </tbody>\n",
       "</table>\n",
       "<p>8 rows × 3198 columns</p>\n",
       "</div>"
      ],
      "text/plain": [
       "             LABEL        FLUX.1        FLUX.2        FLUX.3        FLUX.4  \\\n",
       "count  5087.000000  5.087000e+03  5.087000e+03  5.087000e+03  5.087000e+03   \n",
       "mean      1.007273  1.445054e+02  1.285778e+02  1.471348e+02  1.561512e+02   \n",
       "std       0.084982  2.150669e+04  2.179717e+04  2.191309e+04  2.223366e+04   \n",
       "min       1.000000 -2.278563e+05 -3.154408e+05 -2.840018e+05 -2.340069e+05   \n",
       "25%       1.000000 -4.234000e+01 -3.952000e+01 -3.850500e+01 -3.505000e+01   \n",
       "50%       1.000000 -7.100000e-01 -8.900000e-01 -7.400000e-01 -4.000000e-01   \n",
       "75%       1.000000  4.825500e+01  4.428500e+01  4.232500e+01  3.976500e+01   \n",
       "max       2.000000  1.439240e+06  1.453319e+06  1.468429e+06  1.495750e+06   \n",
       "\n",
       "             FLUX.5        FLUX.6        FLUX.7        FLUX.8        FLUX.9  \\\n",
       "count  5.087000e+03  5.087000e+03  5.087000e+03  5.087000e+03  5.087000e+03   \n",
       "mean   1.561477e+02  1.469646e+02  1.168380e+02  1.144983e+02  1.228639e+02   \n",
       "std    2.308448e+04  2.410567e+04  2.414109e+04  2.290691e+04  2.102681e+04   \n",
       "min   -4.231956e+05 -5.975521e+05 -6.724046e+05 -5.790136e+05 -3.973882e+05   \n",
       "25%   -3.195500e+01 -3.338000e+01 -2.813000e+01 -2.784000e+01 -2.683500e+01   \n",
       "50%   -6.100000e-01 -1.030000e+00 -8.700000e-01 -6.600000e-01 -5.600000e-01   \n",
       "75%    3.975000e+01  3.514000e+01  3.406000e+01  3.170000e+01  3.045500e+01   \n",
       "max    1.510937e+06  1.508152e+06  1.465743e+06  1.416827e+06  1.342888e+06   \n",
       "\n",
       "       ...     FLUX.3188     FLUX.3189     FLUX.3190     FLUX.3191  \\\n",
       "count  ...  5.087000e+03  5.087000e+03  5.087000e+03  5.087000e+03   \n",
       "mean   ...  3.485578e+02  4.956476e+02  6.711211e+02  7.468790e+02   \n",
       "std    ...  2.864786e+04  3.551876e+04  4.349963e+04  4.981375e+04   \n",
       "min    ... -3.240480e+05 -3.045540e+05 -2.933140e+05 -2.838420e+05   \n",
       "25%    ... -1.760000e+01 -1.948500e+01 -1.757000e+01 -2.076000e+01   \n",
       "50%    ...  2.600000e+00  2.680000e+00  3.050000e+00  3.590000e+00   \n",
       "75%    ...  2.211000e+01  2.235000e+01  2.639500e+01  2.909000e+01   \n",
       "max    ...  1.779338e+06  2.379227e+06  2.992070e+06  3.434973e+06   \n",
       "\n",
       "          FLUX.3192     FLUX.3193      FLUX.3194      FLUX.3195  \\\n",
       "count  5.087000e+03  5.087000e+03    5087.000000    5087.000000   \n",
       "mean   6.937372e+02  6.553031e+02    -494.784966    -544.594264   \n",
       "std    5.087103e+04  5.339979e+04   17844.469520   17722.339334   \n",
       "min   -3.288214e+05 -5.028894e+05 -775322.000000 -732006.000000   \n",
       "25%   -2.226000e+01 -2.440500e+01     -26.760000     -24.065000   \n",
       "50%    3.230000e+00  3.500000e+00      -0.680000       0.360000   \n",
       "75%    2.780000e+01  3.085500e+01      18.175000      18.770000   \n",
       "max    3.481220e+06  3.616292e+06  288607.500000  215972.000000   \n",
       "\n",
       "           FLUX.3196      FLUX.3197  \n",
       "count    5087.000000    5087.000000  \n",
       "mean     -440.239100    -300.536399  \n",
       "std     16273.406292   14459.795577  \n",
       "min   -700992.000000 -643170.000000  \n",
       "25%       -21.135000     -19.820000  \n",
       "50%         0.900000       1.430000  \n",
       "75%        19.465000      20.280000  \n",
       "max    207590.000000  211302.000000  \n",
       "\n",
       "[8 rows x 3198 columns]"
      ]
     },
     "execution_count": 4,
     "metadata": {},
     "output_type": "execute_result"
    }
   ],
   "source": [
    "Train.describe()"
   ]
  },
  {
   "cell_type": "markdown",
   "metadata": {},
   "source": [
    "<font size=\"4\" color='#03D3E8'>\n",
    "    <b>Step 2         \n",
    "</font>"
   ]
  },
  {
   "cell_type": "markdown",
   "metadata": {},
   "source": [
    "It can be seen extreme values with minimum and maximum. Second step, normalize using MinMax scaler and passes them using pipeline"
   ]
  },
  {
   "cell_type": "code",
   "execution_count": 6,
   "metadata": {},
   "outputs": [],
   "source": [
    "variables=list(Train.columns)\n",
    "variables.remove('LABEL')\n",
    "\n",
    "scale_step=('scale',MinMaxScaler())\n",
    "num_pipe=Pipeline([scale_step])\n",
    "num_trans=[('num',num_pipe, variables)]\n",
    "\n",
    "col_trans=ColumnTransformer(transformers=num_trans)\n",
    "col_trans.fit(Train[variables])\n",
    "X_Train=col_trans.transform(Train[variables])\n",
    "col_trans.fit(Test[variables])\n",
    "X_Test=col_trans.transform(Test[variables])"
   ]
  },
  {
   "cell_type": "code",
   "execution_count": 8,
   "metadata": {},
   "outputs": [
    {
     "data": {
      "text/plain": [
       "array([[0.13673478, 0.17838747, 0.16207309, ..., 0.77224094, 0.77152869,\n",
       "        0.75266417],\n",
       "       [0.13665516, 0.17832096, 0.16202821, ..., 0.77218296, 0.77154071,\n",
       "        0.75273377],\n",
       "       [0.13699799, 0.17864307, 0.16235477, ..., 0.77214565, 0.77144603,\n",
       "        0.75259731],\n",
       "       ...,\n",
       "       [0.13684248, 0.17849725, 0.16221097, ..., 0.77226942, 0.77161012,\n",
       "        0.7528034 ],\n",
       "       [0.13668078, 0.17834126, 0.16205974, ..., 0.7721608 , 0.77151604,\n",
       "        0.75270746],\n",
       "       [0.1368724 , 0.17851329, 0.1622289 , ..., 0.77215851, 0.77150759,\n",
       "        0.752743  ]])"
      ]
     },
     "execution_count": 8,
     "metadata": {},
     "output_type": "execute_result"
    }
   ],
   "source": [
    "X_Train"
   ]
  },
  {
   "cell_type": "code",
   "execution_count": 9,
   "metadata": {},
   "outputs": [
    {
     "data": {
      "text/plain": [
       "array([[0.16996941, 0.04835513, 0.16324088, ..., 0.29780392, 0.2972462 ,\n",
       "        0.2927919 ],\n",
       "       [0.18600325, 0.06669597, 0.17946142, ..., 0.28957691, 0.28852436,\n",
       "        0.28579297],\n",
       "       [0.1720379 , 0.05070443, 0.16521018, ..., 0.29712418, 0.29620466,\n",
       "        0.29270129],\n",
       "       ...,\n",
       "       [0.16947301, 0.04788238, 0.16287304, ..., 0.29770011, 0.29637898,\n",
       "        0.29266139],\n",
       "       [0.169888  , 0.04830728, 0.16313242, ..., 0.2976525 , 0.29630776,\n",
       "        0.29265771],\n",
       "       [0.17839442, 0.05714049, 0.17050675, ..., 0.29673186, 0.29609297,\n",
       "        0.29300544]])"
      ]
     },
     "execution_count": 9,
     "metadata": {},
     "output_type": "execute_result"
    }
   ],
   "source": [
    "X_Test"
   ]
  },
  {
   "cell_type": "code",
   "execution_count": 11,
   "metadata": {},
   "outputs": [
    {
     "name": "stdout",
     "output_type": "stream",
     "text": [
      "5087\n",
      "570\n"
     ]
    }
   ],
   "source": [
    "Y_Train=np.array(Train['LABEL'])\n",
    "Y_Test=np.array(Test['LABEL'])\n",
    "\n",
    "print(len(Y_Train))\n",
    "print(len(Y_Test))"
   ]
  },
  {
   "cell_type": "markdown",
   "metadata": {},
   "source": [
    "<font size=\"4\" color='#03D3E8'>\n",
    "    <b>Step 3         \n",
    "</font>"
   ]
  },
  {
   "cell_type": "markdown",
   "metadata": {},
   "source": [
    "It'll be used PCA to reduce dimension. Let's see how many components accumulates at least the 95% explained variance ratio"
   ]
  },
  {
   "cell_type": "code",
   "execution_count": 13,
   "metadata": {},
   "outputs": [
    {
     "name": "stdout",
     "output_type": "stream",
     "text": [
      "Number of components that explained 95% variance ratio 11\n"
     ]
    }
   ],
   "source": [
    "np.random.seed(123)\n",
    "\n",
    "pca=PCA()\n",
    "\n",
    "pca.fit(X_Train)\n",
    "\n",
    "cum_sum=np.cumsum(pca.explained_variance_ratio_)\n",
    "\n",
    "dim= np.argmax(cum_sum>=0.95)+1\n",
    "\n",
    "print('Number of components that explained 95% variance ratio',dim)"
   ]
  },
  {
   "cell_type": "code",
   "execution_count": 15,
   "metadata": {},
   "outputs": [
    {
     "name": "stdout",
     "output_type": "stream",
     "text": [
      "5087\n",
      "570\n"
     ]
    }
   ],
   "source": [
    "# --- Adjusting PCA to 11 components\n",
    "\n",
    "pca_adj=PCA(n_components=11)\n",
    "X_Train_PCA=pca_adj.fit_transform(X_Train)\n",
    "X_Test_PCA=pca_adj.fit_transform(X_Test)\n",
    "cum_sum_X_Train=np.cumsum(pca_adj.explained_variance_ratio_)\n",
    "\n",
    "print(len(X_Train_PCA))\n",
    "print(len(X_Test_PCA))"
   ]
  },
  {
   "cell_type": "markdown",
   "metadata": {},
   "source": [
    "<font size=\"4\" color='#03D3E8'>\n",
    "    <b>Step 4         \n",
    "</font>"
   ]
  },
  {
   "cell_type": "markdown",
   "metadata": {},
   "source": [
    "Apply random forest after PCA reduction"
   ]
  },
  {
   "cell_type": "code",
   "execution_count": 16,
   "metadata": {},
   "outputs": [
    {
     "name": "stdout",
     "output_type": "stream",
     "text": [
      "total_time_PCA 0:00:01.769235\n",
      "best_estimator RandomForestClassifier(bootstrap=True, class_weight=None, criterion='gini',\n",
      "                       max_depth=None, max_features='auto', max_leaf_nodes=None,\n",
      "                       min_impurity_decrease=0.0, min_impurity_split=None,\n",
      "                       min_samples_leaf=1, min_samples_split=2,\n",
      "                       min_weight_fraction_leaf=0.0, n_estimators=4,\n",
      "                       n_jobs=None, oob_score=False, random_state=None,\n",
      "                       verbose=0, warm_start=False)\n",
      "best_score 0.9927265578926676\n",
      "best_params {'n_estimators': 4}\n"
     ]
    }
   ],
   "source": [
    "param_randf={'n_estimators':[4, 5, 10, 20, 50]}\n",
    "\n",
    "# param_randf={'n_estimators':[50,100,150,200,250,300]}\n",
    "\n",
    "start_PCA= dt.datetime.now()\n",
    "\n",
    "randf_PCA=RandomForestClassifier()\n",
    "\n",
    "randf_PCA_grid=GridSearchCV(estimator=randf_PCA, param_grid=param_randf,scoring='accuracy',n_jobs=6,cv=5)\n",
    "randf_PCA_grid.fit(X_Train_PCA,Y_Train)\n",
    "end_PCA= dt.datetime.now()\n",
    "\n",
    "total_time_PCA=end_PCA-start_PCA\n",
    "\n",
    "print('total_time_PCA',total_time_PCA)  # 0:01:38.127170\n",
    "\n",
    "print('best_estimator',randf_PCA_grid.best_estimator_)\n",
    "print('best_score',randf_PCA_grid.best_score_)\n",
    "print('best_params',randf_PCA_grid.best_params_)\n",
    "\n",
    "Y_pred_PCA=randf_PCA_grid.predict(X_Test_PCA)\n"
   ]
  },
  {
   "cell_type": "code",
   "execution_count": 25,
   "metadata": {},
   "outputs": [
    {
     "data": {
      "image/png": "[encoded data removed]",
      "text/plain": [
       "<Figure size 432x288 with 2 Axes>"
      ]
     },
     "metadata": {
      "needs_background": "light"
     },
     "output_type": "display_data"
    }
   ],
   "source": [
    "ax=sns.heatmap(confusion_matrix(Y_Test,Y_pred_PCA),annot=True,cmap=\"BuPu\",fmt='d')\n",
    "plt.show()"
   ]
  },
  {
   "cell_type": "code",
   "execution_count": 22,
   "metadata": {},
   "outputs": [
    {
     "data": {
      "text/plain": [
       "0.9842105263157894"
      ]
     },
     "execution_count": 22,
     "metadata": {},
     "output_type": "execute_result"
    }
   ],
   "source": [
    "accuracy_score(Y_Test,Y_pred_PCA)  #Accuracy = 0.984 "
   ]
  },
  {
   "cell_type": "code",
   "execution_count": null,
   "metadata": {},
   "outputs": [],
   "source": []
  }
 ],
 "metadata": {
  "kernelspec": {
   "display_name": "Python 3",
   "language": "python",
   "name": "python3"
  },
  "language_info": {
   "codemirror_mode": {
    "name": "ipython",
    "version": 3
   },
   "file_extension": ".py",
   "mimetype": "text/x-python",
   "name": "python",
   "nbconvert_exporter": "python",
   "pygments_lexer": "ipython3",
   "version": "3.7.4"
  }
 },
 "nbformat": 4,
 "nbformat_minor": 2
}
