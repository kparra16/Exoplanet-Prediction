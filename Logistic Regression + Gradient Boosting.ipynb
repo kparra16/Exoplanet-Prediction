{
 "cells": [
  {
   "cell_type": "code",
   "execution_count": 3,
   "metadata": {},
   "outputs": [],
   "source": [
    "import pandas as pd\n",
    "import numpy as np\n",
    "from sklearn.preprocessing import MinMaxScaler\n",
    "from sklearn.compose import ColumnTransformer\n",
    "from sklearn.pipeline import Pipeline\n",
    "from sklearn.preprocessing import FunctionTransformer\n",
    "from sklearn.ensemble import RandomForestClassifier\n",
    "from sklearn.decomposition import PCA\n",
    "import datetime as dt\n",
    "from sklearn.model_selection import GridSearchCV\n",
    "from sklearn.metrics import recall_score,cohen_kappa_score,roc_curve, auc,accuracy_score,confusion_matrix,f1_score,precision_score,roc_auc_score,roc_curve\n",
    "import matplotlib.pyplot as plt\n",
    "import seaborn as sns\n",
    "\n",
    "\n",
    "Train=pd.read_csv(\"exoTrain.csv\")\n",
    "Test=pd.read_csv(\"exoTest.csv\")"
   ]
  },
  {
   "cell_type": "markdown",
   "metadata": {},
   "source": [
    "Data was already split into Train and Test data and provided in 2 different excel files. "
   ]
  },
  {
   "cell_type": "code",
   "execution_count": 4,
   "metadata": {},
   "outputs": [
    {
     "data": {
      "text/html": [
       "<div>\n",
       "<style scoped>\n",
       "    .dataframe tbody tr th:only-of-type {\n",
       "        vertical-align: middle;\n",
       "    }\n",
       "\n",
       "    .dataframe tbody tr th {\n",
       "        vertical-align: top;\n",
       "    }\n",
       "\n",
       "    .dataframe thead th {\n",
       "        text-align: right;\n",
       "    }\n",
       "</style>\n",
       "<table border=\"1\" class=\"dataframe\">\n",
       "  <thead>\n",
       "    <tr style=\"text-align: right;\">\n",
       "      <th></th>\n",
       "      <th>LABEL</th>\n",
       "      <th>FLUX.1</th>\n",
       "      <th>FLUX.2</th>\n",
       "      <th>FLUX.3</th>\n",
       "      <th>FLUX.4</th>\n",
       "      <th>FLUX.5</th>\n",
       "      <th>FLUX.6</th>\n",
       "      <th>FLUX.7</th>\n",
       "      <th>FLUX.8</th>\n",
       "      <th>FLUX.9</th>\n",
       "      <th>...</th>\n",
       "      <th>FLUX.3188</th>\n",
       "      <th>FLUX.3189</th>\n",
       "      <th>FLUX.3190</th>\n",
       "      <th>FLUX.3191</th>\n",
       "      <th>FLUX.3192</th>\n",
       "      <th>FLUX.3193</th>\n",
       "      <th>FLUX.3194</th>\n",
       "      <th>FLUX.3195</th>\n",
       "      <th>FLUX.3196</th>\n",
       "      <th>FLUX.3197</th>\n",
       "    </tr>\n",
       "  </thead>\n",
       "  <tbody>\n",
       "    <tr>\n",
       "      <td>0</td>\n",
       "      <td>2</td>\n",
       "      <td>93.85</td>\n",
       "      <td>83.81</td>\n",
       "      <td>20.10</td>\n",
       "      <td>-26.98</td>\n",
       "      <td>-39.56</td>\n",
       "      <td>-124.71</td>\n",
       "      <td>-135.18</td>\n",
       "      <td>-96.27</td>\n",
       "      <td>-79.89</td>\n",
       "      <td>...</td>\n",
       "      <td>-78.07</td>\n",
       "      <td>-102.15</td>\n",
       "      <td>-102.15</td>\n",
       "      <td>25.13</td>\n",
       "      <td>48.57</td>\n",
       "      <td>92.54</td>\n",
       "      <td>39.32</td>\n",
       "      <td>61.42</td>\n",
       "      <td>5.08</td>\n",
       "      <td>-39.54</td>\n",
       "    </tr>\n",
       "    <tr>\n",
       "      <td>1</td>\n",
       "      <td>2</td>\n",
       "      <td>-38.88</td>\n",
       "      <td>-33.83</td>\n",
       "      <td>-58.54</td>\n",
       "      <td>-40.09</td>\n",
       "      <td>-79.31</td>\n",
       "      <td>-72.81</td>\n",
       "      <td>-86.55</td>\n",
       "      <td>-85.33</td>\n",
       "      <td>-83.97</td>\n",
       "      <td>...</td>\n",
       "      <td>-3.28</td>\n",
       "      <td>-32.21</td>\n",
       "      <td>-32.21</td>\n",
       "      <td>-24.89</td>\n",
       "      <td>-4.86</td>\n",
       "      <td>0.76</td>\n",
       "      <td>-11.70</td>\n",
       "      <td>6.46</td>\n",
       "      <td>16.00</td>\n",
       "      <td>19.93</td>\n",
       "    </tr>\n",
       "    <tr>\n",
       "      <td>2</td>\n",
       "      <td>2</td>\n",
       "      <td>532.64</td>\n",
       "      <td>535.92</td>\n",
       "      <td>513.73</td>\n",
       "      <td>496.92</td>\n",
       "      <td>456.45</td>\n",
       "      <td>466.00</td>\n",
       "      <td>464.50</td>\n",
       "      <td>486.39</td>\n",
       "      <td>436.56</td>\n",
       "      <td>...</td>\n",
       "      <td>-71.69</td>\n",
       "      <td>13.31</td>\n",
       "      <td>13.31</td>\n",
       "      <td>-29.89</td>\n",
       "      <td>-20.88</td>\n",
       "      <td>5.06</td>\n",
       "      <td>-11.80</td>\n",
       "      <td>-28.91</td>\n",
       "      <td>-70.02</td>\n",
       "      <td>-96.67</td>\n",
       "    </tr>\n",
       "    <tr>\n",
       "      <td>3</td>\n",
       "      <td>2</td>\n",
       "      <td>326.52</td>\n",
       "      <td>347.39</td>\n",
       "      <td>302.35</td>\n",
       "      <td>298.13</td>\n",
       "      <td>317.74</td>\n",
       "      <td>312.70</td>\n",
       "      <td>322.33</td>\n",
       "      <td>311.31</td>\n",
       "      <td>312.42</td>\n",
       "      <td>...</td>\n",
       "      <td>5.71</td>\n",
       "      <td>-3.73</td>\n",
       "      <td>-3.73</td>\n",
       "      <td>30.05</td>\n",
       "      <td>20.03</td>\n",
       "      <td>-12.67</td>\n",
       "      <td>-8.77</td>\n",
       "      <td>-17.31</td>\n",
       "      <td>-17.35</td>\n",
       "      <td>13.98</td>\n",
       "    </tr>\n",
       "    <tr>\n",
       "      <td>4</td>\n",
       "      <td>2</td>\n",
       "      <td>-1107.21</td>\n",
       "      <td>-1112.59</td>\n",
       "      <td>-1118.95</td>\n",
       "      <td>-1095.10</td>\n",
       "      <td>-1057.55</td>\n",
       "      <td>-1034.48</td>\n",
       "      <td>-998.34</td>\n",
       "      <td>-1022.71</td>\n",
       "      <td>-989.57</td>\n",
       "      <td>...</td>\n",
       "      <td>-594.37</td>\n",
       "      <td>-401.66</td>\n",
       "      <td>-401.66</td>\n",
       "      <td>-357.24</td>\n",
       "      <td>-443.76</td>\n",
       "      <td>-438.54</td>\n",
       "      <td>-399.71</td>\n",
       "      <td>-384.65</td>\n",
       "      <td>-411.79</td>\n",
       "      <td>-510.54</td>\n",
       "    </tr>\n",
       "  </tbody>\n",
       "</table>\n",
       "<p>5 rows × 3198 columns</p>\n",
       "</div>"
      ],
      "text/plain": [
       "   LABEL   FLUX.1   FLUX.2   FLUX.3   FLUX.4   FLUX.5   FLUX.6  FLUX.7  \\\n",
       "0      2    93.85    83.81    20.10   -26.98   -39.56  -124.71 -135.18   \n",
       "1      2   -38.88   -33.83   -58.54   -40.09   -79.31   -72.81  -86.55   \n",
       "2      2   532.64   535.92   513.73   496.92   456.45   466.00  464.50   \n",
       "3      2   326.52   347.39   302.35   298.13   317.74   312.70  322.33   \n",
       "4      2 -1107.21 -1112.59 -1118.95 -1095.10 -1057.55 -1034.48 -998.34   \n",
       "\n",
       "    FLUX.8  FLUX.9  ...  FLUX.3188  FLUX.3189  FLUX.3190  FLUX.3191  \\\n",
       "0   -96.27  -79.89  ...     -78.07    -102.15    -102.15      25.13   \n",
       "1   -85.33  -83.97  ...      -3.28     -32.21     -32.21     -24.89   \n",
       "2   486.39  436.56  ...     -71.69      13.31      13.31     -29.89   \n",
       "3   311.31  312.42  ...       5.71      -3.73      -3.73      30.05   \n",
       "4 -1022.71 -989.57  ...    -594.37    -401.66    -401.66    -357.24   \n",
       "\n",
       "   FLUX.3192  FLUX.3193  FLUX.3194  FLUX.3195  FLUX.3196  FLUX.3197  \n",
       "0      48.57      92.54      39.32      61.42       5.08     -39.54  \n",
       "1      -4.86       0.76     -11.70       6.46      16.00      19.93  \n",
       "2     -20.88       5.06     -11.80     -28.91     -70.02     -96.67  \n",
       "3      20.03     -12.67      -8.77     -17.31     -17.35      13.98  \n",
       "4    -443.76    -438.54    -399.71    -384.65    -411.79    -510.54  \n",
       "\n",
       "[5 rows x 3198 columns]"
      ]
     },
     "execution_count": 4,
     "metadata": {},
     "output_type": "execute_result"
    }
   ],
   "source": [
    "Train.head(5)"
   ]
  },
  {
   "cell_type": "code",
   "execution_count": 5,
   "metadata": {},
   "outputs": [
    {
     "data": {
      "text/html": [
       "<div>\n",
       "<style scoped>\n",
       "    .dataframe tbody tr th:only-of-type {\n",
       "        vertical-align: middle;\n",
       "    }\n",
       "\n",
       "    .dataframe tbody tr th {\n",
       "        vertical-align: top;\n",
       "    }\n",
       "\n",
       "    .dataframe thead th {\n",
       "        text-align: right;\n",
       "    }\n",
       "</style>\n",
       "<table border=\"1\" class=\"dataframe\">\n",
       "  <thead>\n",
       "    <tr style=\"text-align: right;\">\n",
       "      <th></th>\n",
       "      <th>LABEL</th>\n",
       "      <th>FLUX.1</th>\n",
       "      <th>FLUX.2</th>\n",
       "      <th>FLUX.3</th>\n",
       "      <th>FLUX.4</th>\n",
       "      <th>FLUX.5</th>\n",
       "      <th>FLUX.6</th>\n",
       "      <th>FLUX.7</th>\n",
       "      <th>FLUX.8</th>\n",
       "      <th>FLUX.9</th>\n",
       "      <th>...</th>\n",
       "      <th>FLUX.3188</th>\n",
       "      <th>FLUX.3189</th>\n",
       "      <th>FLUX.3190</th>\n",
       "      <th>FLUX.3191</th>\n",
       "      <th>FLUX.3192</th>\n",
       "      <th>FLUX.3193</th>\n",
       "      <th>FLUX.3194</th>\n",
       "      <th>FLUX.3195</th>\n",
       "      <th>FLUX.3196</th>\n",
       "      <th>FLUX.3197</th>\n",
       "    </tr>\n",
       "  </thead>\n",
       "  <tbody>\n",
       "    <tr>\n",
       "      <td>0</td>\n",
       "      <td>2</td>\n",
       "      <td>119.88</td>\n",
       "      <td>100.21</td>\n",
       "      <td>86.46</td>\n",
       "      <td>48.68</td>\n",
       "      <td>46.12</td>\n",
       "      <td>39.39</td>\n",
       "      <td>18.57</td>\n",
       "      <td>6.98</td>\n",
       "      <td>6.63</td>\n",
       "      <td>...</td>\n",
       "      <td>14.52</td>\n",
       "      <td>19.29</td>\n",
       "      <td>14.44</td>\n",
       "      <td>-1.62</td>\n",
       "      <td>13.33</td>\n",
       "      <td>45.50</td>\n",
       "      <td>31.93</td>\n",
       "      <td>35.78</td>\n",
       "      <td>269.43</td>\n",
       "      <td>57.72</td>\n",
       "    </tr>\n",
       "    <tr>\n",
       "      <td>1</td>\n",
       "      <td>2</td>\n",
       "      <td>5736.59</td>\n",
       "      <td>5699.98</td>\n",
       "      <td>5717.16</td>\n",
       "      <td>5692.73</td>\n",
       "      <td>5663.83</td>\n",
       "      <td>5631.16</td>\n",
       "      <td>5626.39</td>\n",
       "      <td>5569.47</td>\n",
       "      <td>5550.44</td>\n",
       "      <td>...</td>\n",
       "      <td>-581.91</td>\n",
       "      <td>-984.09</td>\n",
       "      <td>-1230.89</td>\n",
       "      <td>-1600.45</td>\n",
       "      <td>-1824.53</td>\n",
       "      <td>-2061.17</td>\n",
       "      <td>-2265.98</td>\n",
       "      <td>-2366.19</td>\n",
       "      <td>-2294.86</td>\n",
       "      <td>-2034.72</td>\n",
       "    </tr>\n",
       "    <tr>\n",
       "      <td>2</td>\n",
       "      <td>2</td>\n",
       "      <td>844.48</td>\n",
       "      <td>817.49</td>\n",
       "      <td>770.07</td>\n",
       "      <td>675.01</td>\n",
       "      <td>605.52</td>\n",
       "      <td>499.45</td>\n",
       "      <td>440.77</td>\n",
       "      <td>362.95</td>\n",
       "      <td>207.27</td>\n",
       "      <td>...</td>\n",
       "      <td>17.82</td>\n",
       "      <td>-51.66</td>\n",
       "      <td>-48.29</td>\n",
       "      <td>-59.99</td>\n",
       "      <td>-82.10</td>\n",
       "      <td>-174.54</td>\n",
       "      <td>-95.23</td>\n",
       "      <td>-162.68</td>\n",
       "      <td>-36.79</td>\n",
       "      <td>30.63</td>\n",
       "    </tr>\n",
       "    <tr>\n",
       "      <td>3</td>\n",
       "      <td>2</td>\n",
       "      <td>-826.00</td>\n",
       "      <td>-827.31</td>\n",
       "      <td>-846.12</td>\n",
       "      <td>-836.03</td>\n",
       "      <td>-745.50</td>\n",
       "      <td>-784.69</td>\n",
       "      <td>-791.22</td>\n",
       "      <td>-746.50</td>\n",
       "      <td>-709.53</td>\n",
       "      <td>...</td>\n",
       "      <td>122.34</td>\n",
       "      <td>93.03</td>\n",
       "      <td>93.03</td>\n",
       "      <td>68.81</td>\n",
       "      <td>9.81</td>\n",
       "      <td>20.75</td>\n",
       "      <td>20.25</td>\n",
       "      <td>-120.81</td>\n",
       "      <td>-257.56</td>\n",
       "      <td>-215.41</td>\n",
       "    </tr>\n",
       "    <tr>\n",
       "      <td>4</td>\n",
       "      <td>2</td>\n",
       "      <td>-39.57</td>\n",
       "      <td>-15.88</td>\n",
       "      <td>-9.16</td>\n",
       "      <td>-6.37</td>\n",
       "      <td>-16.13</td>\n",
       "      <td>-24.05</td>\n",
       "      <td>-0.90</td>\n",
       "      <td>-45.20</td>\n",
       "      <td>-5.04</td>\n",
       "      <td>...</td>\n",
       "      <td>-37.87</td>\n",
       "      <td>-61.85</td>\n",
       "      <td>-27.15</td>\n",
       "      <td>-21.18</td>\n",
       "      <td>-33.76</td>\n",
       "      <td>-85.34</td>\n",
       "      <td>-81.46</td>\n",
       "      <td>-61.98</td>\n",
       "      <td>-69.34</td>\n",
       "      <td>-17.84</td>\n",
       "    </tr>\n",
       "  </tbody>\n",
       "</table>\n",
       "<p>5 rows × 3198 columns</p>\n",
       "</div>"
      ],
      "text/plain": [
       "   LABEL   FLUX.1   FLUX.2   FLUX.3   FLUX.4   FLUX.5   FLUX.6   FLUX.7  \\\n",
       "0      2   119.88   100.21    86.46    48.68    46.12    39.39    18.57   \n",
       "1      2  5736.59  5699.98  5717.16  5692.73  5663.83  5631.16  5626.39   \n",
       "2      2   844.48   817.49   770.07   675.01   605.52   499.45   440.77   \n",
       "3      2  -826.00  -827.31  -846.12  -836.03  -745.50  -784.69  -791.22   \n",
       "4      2   -39.57   -15.88    -9.16    -6.37   -16.13   -24.05    -0.90   \n",
       "\n",
       "    FLUX.8   FLUX.9  ...  FLUX.3188  FLUX.3189  FLUX.3190  FLUX.3191  \\\n",
       "0     6.98     6.63  ...      14.52      19.29      14.44      -1.62   \n",
       "1  5569.47  5550.44  ...    -581.91    -984.09   -1230.89   -1600.45   \n",
       "2   362.95   207.27  ...      17.82     -51.66     -48.29     -59.99   \n",
       "3  -746.50  -709.53  ...     122.34      93.03      93.03      68.81   \n",
       "4   -45.20    -5.04  ...     -37.87     -61.85     -27.15     -21.18   \n",
       "\n",
       "   FLUX.3192  FLUX.3193  FLUX.3194  FLUX.3195  FLUX.3196  FLUX.3197  \n",
       "0      13.33      45.50      31.93      35.78     269.43      57.72  \n",
       "1   -1824.53   -2061.17   -2265.98   -2366.19   -2294.86   -2034.72  \n",
       "2     -82.10    -174.54     -95.23    -162.68     -36.79      30.63  \n",
       "3       9.81      20.75      20.25    -120.81    -257.56    -215.41  \n",
       "4     -33.76     -85.34     -81.46     -61.98     -69.34     -17.84  \n",
       "\n",
       "[5 rows x 3198 columns]"
      ]
     },
     "execution_count": 5,
     "metadata": {},
     "output_type": "execute_result"
    }
   ],
   "source": [
    "Test.head(5)"
   ]
  },
  {
   "cell_type": "code",
   "execution_count": 6,
   "metadata": {},
   "outputs": [
    {
     "data": {
      "text/html": [
       "<div>\n",
       "<style scoped>\n",
       "    .dataframe tbody tr th:only-of-type {\n",
       "        vertical-align: middle;\n",
       "    }\n",
       "\n",
       "    .dataframe tbody tr th {\n",
       "        vertical-align: top;\n",
       "    }\n",
       "\n",
       "    .dataframe thead th {\n",
       "        text-align: right;\n",
       "    }\n",
       "</style>\n",
       "<table border=\"1\" class=\"dataframe\">\n",
       "  <thead>\n",
       "    <tr style=\"text-align: right;\">\n",
       "      <th></th>\n",
       "      <th>LABEL</th>\n",
       "      <th>FLUX.1</th>\n",
       "      <th>FLUX.2</th>\n",
       "      <th>FLUX.3</th>\n",
       "      <th>FLUX.4</th>\n",
       "      <th>FLUX.5</th>\n",
       "      <th>FLUX.6</th>\n",
       "      <th>FLUX.7</th>\n",
       "      <th>FLUX.8</th>\n",
       "      <th>FLUX.9</th>\n",
       "      <th>...</th>\n",
       "      <th>FLUX.3188</th>\n",
       "      <th>FLUX.3189</th>\n",
       "      <th>FLUX.3190</th>\n",
       "      <th>FLUX.3191</th>\n",
       "      <th>FLUX.3192</th>\n",
       "      <th>FLUX.3193</th>\n",
       "      <th>FLUX.3194</th>\n",
       "      <th>FLUX.3195</th>\n",
       "      <th>FLUX.3196</th>\n",
       "      <th>FLUX.3197</th>\n",
       "    </tr>\n",
       "  </thead>\n",
       "  <tbody>\n",
       "    <tr>\n",
       "      <td>count</td>\n",
       "      <td>5087.000000</td>\n",
       "      <td>5.087000e+03</td>\n",
       "      <td>5.087000e+03</td>\n",
       "      <td>5.087000e+03</td>\n",
       "      <td>5.087000e+03</td>\n",
       "      <td>5.087000e+03</td>\n",
       "      <td>5.087000e+03</td>\n",
       "      <td>5.087000e+03</td>\n",
       "      <td>5.087000e+03</td>\n",
       "      <td>5.087000e+03</td>\n",
       "      <td>...</td>\n",
       "      <td>5.087000e+03</td>\n",
       "      <td>5.087000e+03</td>\n",
       "      <td>5.087000e+03</td>\n",
       "      <td>5.087000e+03</td>\n",
       "      <td>5.087000e+03</td>\n",
       "      <td>5.087000e+03</td>\n",
       "      <td>5087.000000</td>\n",
       "      <td>5087.000000</td>\n",
       "      <td>5087.000000</td>\n",
       "      <td>5087.000000</td>\n",
       "    </tr>\n",
       "    <tr>\n",
       "      <td>mean</td>\n",
       "      <td>1.007273</td>\n",
       "      <td>1.445054e+02</td>\n",
       "      <td>1.285778e+02</td>\n",
       "      <td>1.471348e+02</td>\n",
       "      <td>1.561512e+02</td>\n",
       "      <td>1.561477e+02</td>\n",
       "      <td>1.469646e+02</td>\n",
       "      <td>1.168380e+02</td>\n",
       "      <td>1.144983e+02</td>\n",
       "      <td>1.228639e+02</td>\n",
       "      <td>...</td>\n",
       "      <td>3.485578e+02</td>\n",
       "      <td>4.956476e+02</td>\n",
       "      <td>6.711211e+02</td>\n",
       "      <td>7.468790e+02</td>\n",
       "      <td>6.937372e+02</td>\n",
       "      <td>6.553031e+02</td>\n",
       "      <td>-494.784966</td>\n",
       "      <td>-544.594264</td>\n",
       "      <td>-440.239100</td>\n",
       "      <td>-300.536399</td>\n",
       "    </tr>\n",
       "    <tr>\n",
       "      <td>std</td>\n",
       "      <td>0.084982</td>\n",
       "      <td>2.150669e+04</td>\n",
       "      <td>2.179717e+04</td>\n",
       "      <td>2.191309e+04</td>\n",
       "      <td>2.223366e+04</td>\n",
       "      <td>2.308448e+04</td>\n",
       "      <td>2.410567e+04</td>\n",
       "      <td>2.414109e+04</td>\n",
       "      <td>2.290691e+04</td>\n",
       "      <td>2.102681e+04</td>\n",
       "      <td>...</td>\n",
       "      <td>2.864786e+04</td>\n",
       "      <td>3.551876e+04</td>\n",
       "      <td>4.349963e+04</td>\n",
       "      <td>4.981375e+04</td>\n",
       "      <td>5.087103e+04</td>\n",
       "      <td>5.339979e+04</td>\n",
       "      <td>17844.469520</td>\n",
       "      <td>17722.339334</td>\n",
       "      <td>16273.406292</td>\n",
       "      <td>14459.795577</td>\n",
       "    </tr>\n",
       "    <tr>\n",
       "      <td>min</td>\n",
       "      <td>1.000000</td>\n",
       "      <td>-2.278563e+05</td>\n",
       "      <td>-3.154408e+05</td>\n",
       "      <td>-2.840018e+05</td>\n",
       "      <td>-2.340069e+05</td>\n",
       "      <td>-4.231956e+05</td>\n",
       "      <td>-5.975521e+05</td>\n",
       "      <td>-6.724046e+05</td>\n",
       "      <td>-5.790136e+05</td>\n",
       "      <td>-3.973882e+05</td>\n",
       "      <td>...</td>\n",
       "      <td>-3.240480e+05</td>\n",
       "      <td>-3.045540e+05</td>\n",
       "      <td>-2.933140e+05</td>\n",
       "      <td>-2.838420e+05</td>\n",
       "      <td>-3.288214e+05</td>\n",
       "      <td>-5.028894e+05</td>\n",
       "      <td>-775322.000000</td>\n",
       "      <td>-732006.000000</td>\n",
       "      <td>-700992.000000</td>\n",
       "      <td>-643170.000000</td>\n",
       "    </tr>\n",
       "    <tr>\n",
       "      <td>25%</td>\n",
       "      <td>1.000000</td>\n",
       "      <td>-4.234000e+01</td>\n",
       "      <td>-3.952000e+01</td>\n",
       "      <td>-3.850500e+01</td>\n",
       "      <td>-3.505000e+01</td>\n",
       "      <td>-3.195500e+01</td>\n",
       "      <td>-3.338000e+01</td>\n",
       "      <td>-2.813000e+01</td>\n",
       "      <td>-2.784000e+01</td>\n",
       "      <td>-2.683500e+01</td>\n",
       "      <td>...</td>\n",
       "      <td>-1.760000e+01</td>\n",
       "      <td>-1.948500e+01</td>\n",
       "      <td>-1.757000e+01</td>\n",
       "      <td>-2.076000e+01</td>\n",
       "      <td>-2.226000e+01</td>\n",
       "      <td>-2.440500e+01</td>\n",
       "      <td>-26.760000</td>\n",
       "      <td>-24.065000</td>\n",
       "      <td>-21.135000</td>\n",
       "      <td>-19.820000</td>\n",
       "    </tr>\n",
       "    <tr>\n",
       "      <td>50%</td>\n",
       "      <td>1.000000</td>\n",
       "      <td>-7.100000e-01</td>\n",
       "      <td>-8.900000e-01</td>\n",
       "      <td>-7.400000e-01</td>\n",
       "      <td>-4.000000e-01</td>\n",
       "      <td>-6.100000e-01</td>\n",
       "      <td>-1.030000e+00</td>\n",
       "      <td>-8.700000e-01</td>\n",
       "      <td>-6.600000e-01</td>\n",
       "      <td>-5.600000e-01</td>\n",
       "      <td>...</td>\n",
       "      <td>2.600000e+00</td>\n",
       "      <td>2.680000e+00</td>\n",
       "      <td>3.050000e+00</td>\n",
       "      <td>3.590000e+00</td>\n",
       "      <td>3.230000e+00</td>\n",
       "      <td>3.500000e+00</td>\n",
       "      <td>-0.680000</td>\n",
       "      <td>0.360000</td>\n",
       "      <td>0.900000</td>\n",
       "      <td>1.430000</td>\n",
       "    </tr>\n",
       "    <tr>\n",
       "      <td>75%</td>\n",
       "      <td>1.000000</td>\n",
       "      <td>4.825500e+01</td>\n",
       "      <td>4.428500e+01</td>\n",
       "      <td>4.232500e+01</td>\n",
       "      <td>3.976500e+01</td>\n",
       "      <td>3.975000e+01</td>\n",
       "      <td>3.514000e+01</td>\n",
       "      <td>3.406000e+01</td>\n",
       "      <td>3.170000e+01</td>\n",
       "      <td>3.045500e+01</td>\n",
       "      <td>...</td>\n",
       "      <td>2.211000e+01</td>\n",
       "      <td>2.235000e+01</td>\n",
       "      <td>2.639500e+01</td>\n",
       "      <td>2.909000e+01</td>\n",
       "      <td>2.780000e+01</td>\n",
       "      <td>3.085500e+01</td>\n",
       "      <td>18.175000</td>\n",
       "      <td>18.770000</td>\n",
       "      <td>19.465000</td>\n",
       "      <td>20.280000</td>\n",
       "    </tr>\n",
       "    <tr>\n",
       "      <td>max</td>\n",
       "      <td>2.000000</td>\n",
       "      <td>1.439240e+06</td>\n",
       "      <td>1.453319e+06</td>\n",
       "      <td>1.468429e+06</td>\n",
       "      <td>1.495750e+06</td>\n",
       "      <td>1.510937e+06</td>\n",
       "      <td>1.508152e+06</td>\n",
       "      <td>1.465743e+06</td>\n",
       "      <td>1.416827e+06</td>\n",
       "      <td>1.342888e+06</td>\n",
       "      <td>...</td>\n",
       "      <td>1.779338e+06</td>\n",
       "      <td>2.379227e+06</td>\n",
       "      <td>2.992070e+06</td>\n",
       "      <td>3.434973e+06</td>\n",
       "      <td>3.481220e+06</td>\n",
       "      <td>3.616292e+06</td>\n",
       "      <td>288607.500000</td>\n",
       "      <td>215972.000000</td>\n",
       "      <td>207590.000000</td>\n",
       "      <td>211302.000000</td>\n",
       "    </tr>\n",
       "  </tbody>\n",
       "</table>\n",
       "<p>8 rows × 3198 columns</p>\n",
       "</div>"
      ],
      "text/plain": [
       "             LABEL        FLUX.1        FLUX.2        FLUX.3        FLUX.4  \\\n",
       "count  5087.000000  5.087000e+03  5.087000e+03  5.087000e+03  5.087000e+03   \n",
       "mean      1.007273  1.445054e+02  1.285778e+02  1.471348e+02  1.561512e+02   \n",
       "std       0.084982  2.150669e+04  2.179717e+04  2.191309e+04  2.223366e+04   \n",
       "min       1.000000 -2.278563e+05 -3.154408e+05 -2.840018e+05 -2.340069e+05   \n",
       "25%       1.000000 -4.234000e+01 -3.952000e+01 -3.850500e+01 -3.505000e+01   \n",
       "50%       1.000000 -7.100000e-01 -8.900000e-01 -7.400000e-01 -4.000000e-01   \n",
       "75%       1.000000  4.825500e+01  4.428500e+01  4.232500e+01  3.976500e+01   \n",
       "max       2.000000  1.439240e+06  1.453319e+06  1.468429e+06  1.495750e+06   \n",
       "\n",
       "             FLUX.5        FLUX.6        FLUX.7        FLUX.8        FLUX.9  \\\n",
       "count  5.087000e+03  5.087000e+03  5.087000e+03  5.087000e+03  5.087000e+03   \n",
       "mean   1.561477e+02  1.469646e+02  1.168380e+02  1.144983e+02  1.228639e+02   \n",
       "std    2.308448e+04  2.410567e+04  2.414109e+04  2.290691e+04  2.102681e+04   \n",
       "min   -4.231956e+05 -5.975521e+05 -6.724046e+05 -5.790136e+05 -3.973882e+05   \n",
       "25%   -3.195500e+01 -3.338000e+01 -2.813000e+01 -2.784000e+01 -2.683500e+01   \n",
       "50%   -6.100000e-01 -1.030000e+00 -8.700000e-01 -6.600000e-01 -5.600000e-01   \n",
       "75%    3.975000e+01  3.514000e+01  3.406000e+01  3.170000e+01  3.045500e+01   \n",
       "max    1.510937e+06  1.508152e+06  1.465743e+06  1.416827e+06  1.342888e+06   \n",
       "\n",
       "       ...     FLUX.3188     FLUX.3189     FLUX.3190     FLUX.3191  \\\n",
       "count  ...  5.087000e+03  5.087000e+03  5.087000e+03  5.087000e+03   \n",
       "mean   ...  3.485578e+02  4.956476e+02  6.711211e+02  7.468790e+02   \n",
       "std    ...  2.864786e+04  3.551876e+04  4.349963e+04  4.981375e+04   \n",
       "min    ... -3.240480e+05 -3.045540e+05 -2.933140e+05 -2.838420e+05   \n",
       "25%    ... -1.760000e+01 -1.948500e+01 -1.757000e+01 -2.076000e+01   \n",
       "50%    ...  2.600000e+00  2.680000e+00  3.050000e+00  3.590000e+00   \n",
       "75%    ...  2.211000e+01  2.235000e+01  2.639500e+01  2.909000e+01   \n",
       "max    ...  1.779338e+06  2.379227e+06  2.992070e+06  3.434973e+06   \n",
       "\n",
       "          FLUX.3192     FLUX.3193      FLUX.3194      FLUX.3195  \\\n",
       "count  5.087000e+03  5.087000e+03    5087.000000    5087.000000   \n",
       "mean   6.937372e+02  6.553031e+02    -494.784966    -544.594264   \n",
       "std    5.087103e+04  5.339979e+04   17844.469520   17722.339334   \n",
       "min   -3.288214e+05 -5.028894e+05 -775322.000000 -732006.000000   \n",
       "25%   -2.226000e+01 -2.440500e+01     -26.760000     -24.065000   \n",
       "50%    3.230000e+00  3.500000e+00      -0.680000       0.360000   \n",
       "75%    2.780000e+01  3.085500e+01      18.175000      18.770000   \n",
       "max    3.481220e+06  3.616292e+06  288607.500000  215972.000000   \n",
       "\n",
       "           FLUX.3196      FLUX.3197  \n",
       "count    5087.000000    5087.000000  \n",
       "mean     -440.239100    -300.536399  \n",
       "std     16273.406292   14459.795577  \n",
       "min   -700992.000000 -643170.000000  \n",
       "25%       -21.135000     -19.820000  \n",
       "50%         0.900000       1.430000  \n",
       "75%        19.465000      20.280000  \n",
       "max    207590.000000  211302.000000  \n",
       "\n",
       "[8 rows x 3198 columns]"
      ]
     },
     "execution_count": 6,
     "metadata": {},
     "output_type": "execute_result"
    }
   ],
   "source": [
    "Train.describe()\n"
   ]
  },
  {
   "cell_type": "code",
   "execution_count": 7,
   "metadata": {},
   "outputs": [
    {
     "name": "stdout",
     "output_type": "stream",
     "text": [
      "<class 'pandas.core.frame.DataFrame'>\n",
      "RangeIndex: 5087 entries, 0 to 5086\n",
      "Columns: 3198 entries, LABEL to FLUX.3197\n",
      "dtypes: float64(3197), int64(1)\n",
      "memory usage: 124.1 MB\n"
     ]
    }
   ],
   "source": [
    "Train.info()"
   ]
  },
  {
   "cell_type": "code",
   "execution_count": 8,
   "metadata": {},
   "outputs": [
    {
     "name": "stdout",
     "output_type": "stream",
     "text": [
      "<class 'pandas.core.frame.DataFrame'>\n",
      "RangeIndex: 570 entries, 0 to 569\n",
      "Columns: 3198 entries, LABEL to FLUX.3197\n",
      "dtypes: float64(3197), int64(1)\n",
      "memory usage: 13.9 MB\n"
     ]
    }
   ],
   "source": [
    "Test.info()"
   ]
  },
  {
   "cell_type": "code",
   "execution_count": 9,
   "metadata": {},
   "outputs": [
    {
     "data": {
      "text/plain": [
       "LABEL          int64\n",
       "FLUX.1       float64\n",
       "FLUX.2       float64\n",
       "FLUX.3       float64\n",
       "FLUX.4       float64\n",
       "              ...   \n",
       "FLUX.3193    float64\n",
       "FLUX.3194    float64\n",
       "FLUX.3195    float64\n",
       "FLUX.3196    float64\n",
       "FLUX.3197    float64\n",
       "Length: 3198, dtype: object"
      ]
     },
     "execution_count": 9,
     "metadata": {},
     "output_type": "execute_result"
    }
   ],
   "source": [
    "Train.dtypes"
   ]
  },
  {
   "cell_type": "markdown",
   "metadata": {},
   "source": [
    "**Missing Data:**\n",
    "below we check for missing data in case we need to apply some sort of encoder. \n",
    "\n",
    "as you can see there is no missing data in neither one of the data sets"
   ]
  },
  {
   "cell_type": "code",
   "execution_count": 52,
   "metadata": {},
   "outputs": [
    {
     "name": "stdout",
     "output_type": "stream",
     "text": [
      "Missing Data in Training set:  0\n",
      "Missing Data in Test set:  0\n"
     ]
    }
   ],
   "source": [
    "print('Missing Data in Training set: ', Train.isnull().sum().sum())\n",
    "print('Missing Data in Test set: ', Test.isnull().sum().sum())"
   ]
  },
  {
   "cell_type": "markdown",
   "metadata": {},
   "source": [
    "**Plotting Sample Data:**\n",
    "in order to get a better idea of what the data looks like.\n",
    "\n",
    "**Scaling:**\n",
    "as we can see with the graph below, the range of data is vast. going from anywhere from -500000 all the way to 1500000. and it seems like the purple line (flux 5) has a much different scale than some of the other line. using a MinMaxScaler() should help fix this and make the data more consistent across all features."
   ]
  },
  {
   "cell_type": "code",
   "execution_count": 10,
   "metadata": {},
   "outputs": [
    {
     "data": {
      "text/plain": [
       "<matplotlib.axes._subplots.AxesSubplot at 0x1a1937ca10>"
      ]
     },
     "execution_count": 10,
     "metadata": {},
     "output_type": "execute_result"
    },
    {
     "data": {
      "image/png": "[encoded data removed]",
      "text/plain": [
       "<Figure size 1440x720 with 1 Axes>"
      ]
     },
     "metadata": {
      "needs_background": "light"
     },
     "output_type": "display_data"
    }
   ],
   "source": [
    "sample = Train[['FLUX.1','FLUX.2','FLUX.3','FLUX.4','FLUX.5']]\n",
    "sample.plot(figsize=(20,10))"
   ]
  },
  {
   "cell_type": "code",
   "execution_count": 11,
   "metadata": {},
   "outputs": [],
   "source": [
    "cont_vars = list(Train.drop(['LABEL'],1).columns)"
   ]
  },
  {
   "cell_type": "code",
   "execution_count": 12,
   "metadata": {},
   "outputs": [],
   "source": [
    "#NUMERICAL PIPELINE: scaling\n",
    "num_scl_step = ('scale', MinMaxScaler())\n",
    "num_steps = [num_scl_step]\n",
    "num_pipe = Pipeline(num_steps)\n",
    "num_transformers = [('num', num_pipe, cont_vars)]"
   ]
  },
  {
   "cell_type": "code",
   "execution_count": 13,
   "metadata": {},
   "outputs": [],
   "source": [
    "ct = ColumnTransformer(transformers=num_transformers)\n",
    "ct.fit(Train[cont_vars])\n",
    "X_train = ct.transform(Train[cont_vars])\n",
    "ct.fit(Test[cont_vars])\n",
    "X_test = ct.transform(Test[cont_vars])\n",
    "\n",
    "\n",
    "y_train = Train['LABEL'].values\n",
    "y_test = Test['LABEL'].values"
   ]
  },
  {
   "cell_type": "code",
   "execution_count": 14,
   "metadata": {},
   "outputs": [
    {
     "name": "stdout",
     "output_type": "stream",
     "text": [
      "(5087, 3197) (570, 3197) (5087,) (570,)\n"
     ]
    }
   ],
   "source": [
    "print(X_train.shape, X_test.shape, y_train.shape, y_test.shape)"
   ]
  },
  {
   "cell_type": "markdown",
   "metadata": {},
   "source": [
    "As you can see below the data is much easier to visualize with a more consistent scale between the features. this will also help us in our predictive models."
   ]
  },
  {
   "cell_type": "code",
   "execution_count": 15,
   "metadata": {},
   "outputs": [
    {
     "data": {
      "text/plain": [
       "<matplotlib.axes._subplots.AxesSubplot at 0x1a194fe410>"
      ]
     },
     "execution_count": 15,
     "metadata": {},
     "output_type": "execute_result"
    },
    {
     "data": {
      "image/png": "[encoded data removed]",
      "text/plain": [
       "<Figure size 1440x720 with 1 Axes>"
      ]
     },
     "metadata": {
      "needs_background": "light"
     },
     "output_type": "display_data"
    }
   ],
   "source": [
    "random = pd.DataFrame(data=X_test)\n",
    "sample2  = random.iloc[:, 0:5]\n",
    "sample2.plot(figsize=(20,10))"
   ]
  },
  {
   "cell_type": "markdown",
   "metadata": {},
   "source": [
    "**Principal Component Analysis:**\n",
    "below we use PCA to determine number of components to achieve 95% cumulative explained variation"
   ]
  },
  {
   "cell_type": "code",
   "execution_count": 18,
   "metadata": {},
   "outputs": [
    {
     "name": "stdout",
     "output_type": "stream",
     "text": [
      "Cumulative explained variation: 0.9575563848002246\n"
     ]
    }
   ],
   "source": [
    "pca = PCA(.95)\n",
    "\n",
    "pca.fit(X_train)\n",
    "\n",
    "print('Cumulative explained variation: {}'.format(np.sum(pca.explained_variance_ratio_)))"
   ]
  },
  {
   "cell_type": "markdown",
   "metadata": {},
   "source": [
    "As you can see below 11 components explain 95% of the variance. \n",
    "\n",
    "we now use this to transform the data feature data for both the training and test set."
   ]
  },
  {
   "cell_type": "code",
   "execution_count": 19,
   "metadata": {},
   "outputs": [
    {
     "data": {
      "text/plain": [
       "11"
      ]
     },
     "execution_count": 19,
     "metadata": {},
     "output_type": "execute_result"
    }
   ],
   "source": [
    "pca.n_components_"
   ]
  },
  {
   "cell_type": "code",
   "execution_count": 20,
   "metadata": {},
   "outputs": [],
   "source": [
    "X_train_pca=pca.transform(X_train)\n",
    "X_test_pca=pca.transform(X_test)"
   ]
  },
  {
   "cell_type": "markdown",
   "metadata": {},
   "source": [
    "**Logistic Regression Model**"
   ]
  },
  {
   "cell_type": "code",
   "execution_count": 21,
   "metadata": {},
   "outputs": [],
   "source": [
    "from sklearn.linear_model import LogisticRegression\n",
    "logisticRegr = LogisticRegression(solver='lbfgs')\n",
    "\n",
    "logisticRegr.fit(X_train_pca,y_train)\n",
    "\n",
    "y_pred1=logisticRegr.predict(X_test_pca)"
   ]
  },
  {
   "cell_type": "code",
   "execution_count": 45,
   "metadata": {},
   "outputs": [
    {
     "name": "stdout",
     "output_type": "stream",
     "text": [
      "Accuracy Score for Logistic Regression: 99.12 %\n",
      "ROC AUC: 0.5\n",
      "Precision Score: 0.9912280701754386\n",
      "Recall Score: 1.0\n",
      "F1 Score: 0.9955947136563876\n"
     ]
    },
    {
     "data": {
      "image/png": "[encoded data removed]",
      "text/plain": [
       "<Figure size 432x288 with 2 Axes>"
      ]
     },
     "metadata": {},
     "output_type": "display_data"
    }
   ],
   "source": [
    "sns.set_style(\"whitegrid\")\n",
    "\n",
    "\n",
    "print('Accuracy Score for Logistic Regression:'\\\n",
    "      , round(accuracy_score(y_test, y_pred1)*100, 2), '%')\n",
    "print('ROC AUC:'\\\n",
    "     ,roc_auc_score(y_test,y_pred1))\n",
    "print('Precision Score:'\\\n",
    "     ,precision_score(y_test,y_pred1))\n",
    "print('Recall Score:'\\\n",
    "     ,recall_score(y_test,y_pred1))\n",
    "print('F1 Score:'\\\n",
    "     ,f1_score(y_test,y_pred1))\n",
    "plt.title('Confusion matrix for Logistic Regression')\n",
    "sns.heatmap(confusion_matrix(y_test, y_pred1), annot=True, cmap=\"YlGn\")\n",
    "plt.xlabel('Predicted classes')\n",
    "plt.ylabel('True Classes')\n",
    "plt.show()"
   ]
  },
  {
   "cell_type": "markdown",
   "metadata": {},
   "source": [
    "**Gradient Boosting Regression Model**"
   ]
  },
  {
   "cell_type": "code",
   "execution_count": 28,
   "metadata": {},
   "outputs": [
    {
     "data": {
      "text/plain": [
       "0.016807065598828674"
      ]
     },
     "execution_count": 28,
     "metadata": {},
     "output_type": "execute_result"
    }
   ],
   "source": [
    "from sklearn.metrics import mean_squared_error\n",
    "from sklearn.svm import LinearSVR\n",
    "from sklearn import ensemble\n",
    "\n",
    "gbes = ensemble.GradientBoostingRegressor(n_estimators=100)\n",
    "gbes.fit(X_train, y_train)\n",
    "mean_squared_error(gbes.predict(X_test), y_test)"
   ]
  },
  {
   "cell_type": "code",
   "execution_count": 36,
   "metadata": {},
   "outputs": [],
   "source": [
    "y_pred2 = gbes.predict(X_test).round()"
   ]
  },
  {
   "cell_type": "code",
   "execution_count": 44,
   "metadata": {},
   "outputs": [
    {
     "name": "stdout",
     "output_type": "stream",
     "text": [
      "Accuracy Score for Logistic Regression: 98.95 %\n",
      "ROC AUC: 0.49911504424778763\n",
      "Precision Score: 0.9912126537785588\n",
      "Recall Score: 0.9982300884955753\n",
      "F1 Score: 0.9947089947089948\n"
     ]
    },
    {
     "data": {
      "image/png": "[encoded data removed]",
      "text/plain": [
       "<Figure size 432x288 with 2 Axes>"
      ]
     },
     "metadata": {},
     "output_type": "display_data"
    }
   ],
   "source": [
    "print('Accuracy Score for Logistic Regression:'\\\n",
    "      , round(accuracy_score(y_test, y_pred2)*100, 2), '%')\n",
    "print('ROC AUC:'\\\n",
    "     ,roc_auc_score(y_test,y_pred2))\n",
    "print('Precision Score:'\\\n",
    "     ,precision_score(y_test,y_pred2))\n",
    "print('Recall Score:'\\\n",
    "     ,recall_score(y_test,y_pred2))\n",
    "print('F1 Score:'\\\n",
    "     ,f1_score(y_test,y_pred2))\n",
    "plt.title('Confusion matrix for Logistic Regression')\n",
    "sns.heatmap(confusion_matrix(y_test, y_pred2), annot=True, cmap=\"YlGn\")\n",
    "plt.xlabel('Predicted classes')\n",
    "plt.ylabel('True Classes')\n",
    "plt.show()"
   ]
  },
  {
   "cell_type": "markdown",
   "metadata": {},
   "source": [
    "**EXTRA Work (Don't necessarily have to include in assignment**\n",
    "\n",
    "i was just trying out a couple of things did this. don't have to include it in the model. "
   ]
  },
  {
   "cell_type": "code",
   "execution_count": 53,
   "metadata": {},
   "outputs": [
    {
     "name": "stderr",
     "output_type": "stream",
     "text": [
      "/Users/wfaizi/opt/anaconda3/lib/python3.7/site-packages/sklearn/ensemble/forest.py:245: FutureWarning: The default value of n_estimators will change from 10 in version 0.20 to 100 in 0.22.\n",
      "  \"10 in version 0.20 to 100 in 0.22.\", FutureWarning)\n"
     ]
    },
    {
     "data": {
      "text/plain": [
       "Text(0.5, 0, 'Relative Importance')"
      ]
     },
     "execution_count": 53,
     "metadata": {},
     "output_type": "execute_result"
    },
    {
     "data": {
      "image/png": "[encoded data removed]",
      "text/plain": [
       "<Figure size 1440x720 with 1 Axes>"
      ]
     },
     "metadata": {},
     "output_type": "display_data"
    }
   ],
   "source": [
    "from sklearn.ensemble import RandomForestRegressor\n",
    "\n",
    "\n",
    "model = RandomForestRegressor(random_state=1, max_depth=10)\n",
    "model.fit(X_train, y_train)\n",
    "\n",
    "importances = model.feature_importances_\n",
    "indices = np.argsort(importances)[-40:]\n",
    "\n",
    "plt.figure(figsize=(20,10))\n",
    "plt.title('Feature Importance')\n",
    "plt.barh(range(len(indices)), importances[indices], color='g', align='center')\n",
    "plt.yticks(range(len(indices)), [Train.columns[i] for i in indices])\n",
    "plt.xlabel('Relative Importance')"
   ]
  },
  {
   "cell_type": "code",
   "execution_count": 54,
   "metadata": {},
   "outputs": [
    {
     "name": "stdout",
     "output_type": "stream",
     "text": [
      "The following Flux numbers are the top 40 most important and explain most of the variances: \n",
      "\n",
      " ['FLUX.2047', 'FLUX.697', 'FLUX.2191', 'FLUX.1497', 'FLUX.2371', 'FLUX.2342', 'FLUX.1778', 'FLUX.2744', 'FLUX.1410', 'FLUX.90', 'FLUX.1887', 'FLUX.2713', 'FLUX.185', 'FLUX.428', 'FLUX.1097', 'FLUX.1098', 'FLUX.2902', 'FLUX.2499', 'FLUX.424', 'FLUX.2627', 'FLUX.3024', 'FLUX.597', 'FLUX.98', 'FLUX.482', 'FLUX.1656', 'FLUX.2703', 'FLUX.2383', 'FLUX.2573', 'FLUX.1094', 'FLUX.3149', 'FLUX.2384', 'FLUX.1281', 'FLUX.1092', 'FLUX.2485', 'FLUX.2105', 'FLUX.2990', 'FLUX.2936', 'FLUX.979', 'FLUX.2348', 'FLUX.2347']\n"
     ]
    }
   ],
   "source": [
    "#The 40 flux numbers below are the top 40 important fluxes that explain most of the variances\n",
    "print('The following Flux numbers are the top 40 most important and explain most of the variances: \\n\\n',\n",
    "      [Train.columns[i] for i in indices])"
   ]
  },
  {
   "cell_type": "code",
   "execution_count": null,
   "metadata": {},
   "outputs": [],
   "source": []
  }
 ],
 "metadata": {
  "kernelspec": {
   "display_name": "Python 3",
   "language": "python",
   "name": "python3"
  },
  "language_info": {
   "codemirror_mode": {
    "name": "ipython",
    "version": 3
   },
   "file_extension": ".py",
   "mimetype": "text/x-python",
   "name": "python",
   "nbconvert_exporter": "python",
   "pygments_lexer": "ipython3",
   "version": "3.7.4"
  }
 },
 "nbformat": 4,
 "nbformat_minor": 2
}
