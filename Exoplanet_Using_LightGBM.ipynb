{
 "cells": [
  {
   "cell_type": "code",
   "execution_count": 1,
   "metadata": {},
   "outputs": [
    {
     "name": "stdout",
     "output_type": "stream",
     "text": [
      "(5087, 3198)\n",
      "(570, 3198)\n"
     ]
    }
   ],
   "source": [
    "import pandas as pd\n",
    "import numpy as np\n",
    "import os\n",
    "from sklearn.preprocessing import MinMaxScaler\n",
    "from sklearn.compose import ColumnTransformer\n",
    "from sklearn.pipeline import Pipeline\n",
    "from sklearn.preprocessing import FunctionTransformer\n",
    "from sklearn.ensemble import RandomForestClassifier\n",
    "from sklearn.decomposition import PCA\n",
    "from sklearn.metrics import mean_squared_error\n",
    "from sklearn import metrics\n",
    "import datetime as dt\n",
    "from sklearn.model_selection import GridSearchCV,RandomizedSearchCV, learning_curve \n",
    "from sklearn.metrics import recall_score,cohen_kappa_score,roc_curve, auc,accuracy_score,confusion_matrix,f1_score,precision_score,roc_auc_score,roc_curve\n",
    "from scipy.stats import ks_2samp\n",
    "import matplotlib.pyplot as plt\n",
    "import seaborn as sns\n",
    "import pickle\n",
    "import random\n",
    "import lightgbm as lgb\n",
    "\n",
    "Train = pd.read_csv(\"exoTrain.csv\",sep=',')\n",
    "Test = pd.read_csv(\"exoTest.csv\",sep=',')\n",
    "\n",
    "print(Train.shape)\n",
    "print(Test.shape)"
   ]
  },
  {
   "cell_type": "code",
   "execution_count": 2,
   "metadata": {},
   "outputs": [],
   "source": [
    "X_train = Train.drop('LABEL', axis=1).values\n",
    "X_test = Test.drop('LABEL', axis=1).values\n",
    "y_train = Train['LABEL'].values\n",
    "y_test = Test['LABEL'].values\n",
    "\n"
   ]
  },
  {
   "cell_type": "code",
   "execution_count": 3,
   "metadata": {},
   "outputs": [
    {
     "name": "stdout",
     "output_type": "stream",
     "text": [
      "Start training...\n",
      "[1]\tvalid_0's l1: 0.0158363\tvalid_0's l2: 0.00864816\n",
      "Training until validation scores don't improve for 5 rounds\n",
      "[2]\tvalid_0's l1: 0.0158545\tvalid_0's l2: 0.00862168\n",
      "[3]\tvalid_0's l1: 0.0158311\tvalid_0's l2: 0.00858273\n",
      "[4]\tvalid_0's l1: 0.0158646\tvalid_0's l2: 0.00856454\n",
      "[5]\tvalid_0's l1: 0.0158782\tvalid_0's l2: 0.0085459\n",
      "[6]\tvalid_0's l1: 0.0159822\tvalid_0's l2: 0.00848153\n",
      "[7]\tvalid_0's l1: 0.0159661\tvalid_0's l2: 0.00843816\n",
      "[8]\tvalid_0's l1: 0.0159181\tvalid_0's l2: 0.0084078\n",
      "Early stopping, best iteration is:\n",
      "[3]\tvalid_0's l1: 0.0158311\tvalid_0's l2: 0.00858273\n"
     ]
    },
    {
     "data": {
      "text/plain": [
       "LGBMRegressor(boosting_type='gbdt', class_weight=None, colsample_bytree=1.0,\n",
       "       importance_type='split', learning_rate=0.05, max_depth=-1,\n",
       "       min_child_samples=20, min_child_weight=0.001, min_split_gain=0.0,\n",
       "       n_estimators=20, n_jobs=-1, num_leaves=20, objective='regression',\n",
       "       random_state=None, reg_alpha=0.0, reg_lambda=0.0, silent=True,\n",
       "       subsample=1.0, subsample_for_bin=200000, subsample_freq=0)"
      ]
     },
     "execution_count": 3,
     "metadata": {},
     "output_type": "execute_result"
    }
   ],
   "source": [
    "# Use Sklearn to create Model and train model \n",
    "\n",
    "print('Start training...')\n",
    "gbm = lgb.LGBMRegressor(objective='regression',num_leaves=20,learning_rate=0.05,n_estimators=20)\n",
    "gbm.fit(X_train, y_train,eval_set=[(X_test, y_test)],eval_metric='l1',early_stopping_rounds=5)\n"
   ]
  },
  {
   "cell_type": "code",
   "execution_count": 4,
   "metadata": {},
   "outputs": [
    {
     "name": "stdout",
     "output_type": "stream",
     "text": [
      "Start predicting...\n",
      "The rmse of prediction is: 0.0926430399628523\n"
     ]
    }
   ],
   "source": [
    "print('Start predicting...')\n",
    "y_pred = gbm.predict(X_test, num_iteration=gbm.best_iteration_)\n",
    "print('The rmse of prediction is:', mean_squared_error(y_test, y_pred) ** 0.5)"
   ]
  },
  {
   "cell_type": "code",
   "execution_count": 5,
   "metadata": {},
   "outputs": [
    {
     "name": "stdout",
     "output_type": "stream",
     "text": [
      "Accuracy Score: 0.9912280701754386\n",
      "ROC AUC: 0.5\n"
     ]
    }
   ],
   "source": [
    "\n",
    "\n",
    "gbmModel = lgb.LGBMClassifier()\n",
    "gbmModel.fit(X_train,y_train)\n",
    "y_pred = gbmModel.predict(X_test)\n",
    "print(\"Accuracy Score:\",metrics.accuracy_score(y_test,y_pred))\n",
    "print(\"ROC AUC:\",metrics.roc_auc_score(y_test,y_pred))"
   ]
  },
  {
   "cell_type": "code",
   "execution_count": 6,
   "metadata": {},
   "outputs": [
    {
     "data": {
      "image/png": "[encoded data removed]",
      "text/plain": [
       "<Figure size 432x288 with 2 Axes>"
      ]
     },
     "metadata": {
      "needs_background": "light"
     },
     "output_type": "display_data"
    }
   ],
   "source": [
    "plt.title('Confusion matrix for Logistic Regression')\n",
    "sns.heatmap(confusion_matrix(y_test, y_pred), annot=True, cmap=\"YlGn\")\n",
    "plt.xlabel('Predicted classes')\n",
    "plt.ylabel('True Classes')\n",
    "plt.show()"
   ]
  },
  {
   "cell_type": "code",
   "execution_count": 23,
   "metadata": {},
   "outputs": [
    {
     "name": "stdout",
     "output_type": "stream",
     "text": [
      "Start training...\n",
      "[1]\tvalid_0's l2: 0.00864193\tvalid_0's auc: 1\n",
      "Training until validation scores don't improve for 5 rounds\n",
      "[2]\tvalid_0's l2: 0.00859433\tvalid_0's auc: 1\n",
      "[3]\tvalid_0's l2: 0.00855363\tvalid_0's auc: 1\n",
      "[4]\tvalid_0's l2: 0.00851146\tvalid_0's auc: 1\n",
      "[5]\tvalid_0's l2: 0.00847676\tvalid_0's auc: 1\n",
      "[6]\tvalid_0's l2: 0.00839803\tvalid_0's auc: 1\n",
      "Early stopping, best iteration is:\n",
      "[1]\tvalid_0's l2: 0.00864193\tvalid_0's auc: 1\n"
     ]
    }
   ],
   "source": [
    "# Use LGB.train()\n",
    "# Convert the training data into LightGBM dataset formate \n",
    "# manually build python dictionary with lgb parameters \n",
    "\n",
    "lgb_train = lgb.Dataset(X_train, y_train)\n",
    "lgb_eval = lgb.Dataset(X_test, y_test, reference=lgb_train)\n",
    "\n",
    "params = {\n",
    " 'task': 'train',\n",
    " 'boosting_type': 'gbdt',\n",
    " 'objective': 'regression', \n",
    " 'metric': {'l2', 'auc'}, \n",
    " 'num_leaves': 31, \n",
    " 'learning_rate': 0.05, \n",
    " 'feature_fraction': 0.9, \n",
    " 'bagging_fraction': 0.8, \n",
    " 'bagging_freq': 5,\n",
    " 'verbose': 1 \n",
    "}\n",
    "\n",
    "print('Start training...')\n",
    "\n",
    "gbm = lgb.train(params,lgb_train,num_boost_round=50,valid_sets=lgb_eval,early_stopping_rounds=5)\n"
   ]
  },
  {
   "cell_type": "code",
   "execution_count": 19,
   "metadata": {},
   "outputs": [
    {
     "name": "stdout",
     "output_type": "stream",
     "text": [
      "The rmse of prediction is: 0.09296198661633567\n",
      "Accuracy Score: 0.9912280701754386\n",
      "ROC AUC: 0.08318584070796459\n"
     ]
    }
   ],
   "source": [
    "yy_pred = gbm.predict(X_test)\n",
    "\n",
    "accuracy=accuracy_score(yy_pred.round(),y_test)\n",
    "\n",
    "print('The rmse of prediction is:', mean_squared_error(y_test, yy_pred) ** 0.5)\n",
    "\n",
    "print(\"Accuracy Score:\",accuracy)\n",
    "print(\"ROC AUC:\",metrics.roc_auc_score(y_test,y_pred2))"
   ]
  },
  {
   "cell_type": "code",
   "execution_count": 20,
   "metadata": {},
   "outputs": [
    {
     "data": {
      "image/png": "[encoded data removed]",
      "text/plain": [
       "<Figure size 432x288 with 2 Axes>"
      ]
     },
     "metadata": {
      "needs_background": "light"
     },
     "output_type": "display_data"
    }
   ],
   "source": [
    "\n",
    "plt.title('Confusion matrix for Logistic Regression')\n",
    "sns.heatmap(confusion_matrix(y_test, yy_pred.round()), annot=True, cmap=\"YlGn\")\n",
    "plt.xlabel('Predicted classes')\n",
    "plt.ylabel('True Classes')\n",
    "plt.show()\n"
   ]
  },
  {
   "cell_type": "code",
   "execution_count": 21,
   "metadata": {},
   "outputs": [
    {
     "data": {
      "image/png": "[encoded data removed]",
      "text/plain": [
       "<Figure size 432x288 with 1 Axes>"
      ]
     },
     "metadata": {
      "needs_background": "light"
     },
     "output_type": "display_data"
    }
   ],
   "source": [
    "lgb.plot_importance(gbm)\n",
    "plt.show()"
   ]
  },
  {
   "cell_type": "code",
   "execution_count": 22,
   "metadata": {},
   "outputs": [
    {
     "name": "stdout",
     "output_type": "stream",
     "text": [
      "best n_estimators: 1\n",
      "best cv score: 1.0\n"
     ]
    }
   ],
   "source": [
    "data_train = lgb.Dataset(X_train, y_train)\n",
    "cv_results = lgb.cv(params, data_train, num_boost_round=50, nfold=5, stratified=False, shuffle=True, metrics='auc',early_stopping_rounds=50,seed=0)\n",
    "print('best n_estimators:', len(cv_results['auc-mean']))\n",
    "print('best cv score:', pd.Series(cv_results['auc-mean']).max())"
   ]
  },
  {
   "cell_type": "code",
   "execution_count": 14,
   "metadata": {},
   "outputs": [
    {
     "name": "stdout",
     "output_type": "stream",
     "text": [
      "best n_estimators: 1\n",
      "best cv score: 1.0\n"
     ]
    }
   ],
   "source": []
  },
  {
   "cell_type": "code",
   "execution_count": null,
   "metadata": {},
   "outputs": [],
   "source": []
  },
  {
   "cell_type": "code",
   "execution_count": null,
   "metadata": {},
   "outputs": [],
   "source": []
  },
  {
   "cell_type": "code",
   "execution_count": null,
   "metadata": {},
   "outputs": [],
   "source": []
  },
  {
   "cell_type": "code",
   "execution_count": null,
   "metadata": {},
   "outputs": [],
   "source": []
  }
 ],
 "metadata": {
  "kernelspec": {
   "display_name": "Python 3",
   "language": "python",
   "name": "python3"
  },
  "language_info": {
   "codemirror_mode": {
    "name": "ipython",
    "version": 3
   },
   "file_extension": ".py",
   "mimetype": "text/x-python",
   "name": "python",
   "nbconvert_exporter": "python",
   "pygments_lexer": "ipython3",
   "version": "3.7.1"
  }
 },
 "nbformat": 4,
 "nbformat_minor": 2
}
